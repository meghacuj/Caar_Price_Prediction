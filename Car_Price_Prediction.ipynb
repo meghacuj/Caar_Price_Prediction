{
 "cells": [
  {
   "cell_type": "code",
   "execution_count": 1,
   "id": "16568e54",
   "metadata": {},
   "outputs": [],
   "source": [
    "import pandas as pd\n",
    "import numpy as np\n",
    "import matplotlib.pyplot as plt\n",
    "import seaborn as sns"
   ]
  },
  {
   "cell_type": "code",
   "execution_count": 2,
   "id": "84d48f37",
   "metadata": {},
   "outputs": [
    {
     "data": {
      "text/html": [
       "<div>\n",
       "<style scoped>\n",
       "    .dataframe tbody tr th:only-of-type {\n",
       "        vertical-align: middle;\n",
       "    }\n",
       "\n",
       "    .dataframe tbody tr th {\n",
       "        vertical-align: top;\n",
       "    }\n",
       "\n",
       "    .dataframe thead th {\n",
       "        text-align: right;\n",
       "    }\n",
       "</style>\n",
       "<table border=\"1\" class=\"dataframe\">\n",
       "  <thead>\n",
       "    <tr style=\"text-align: right;\">\n",
       "      <th></th>\n",
       "      <th>name</th>\n",
       "      <th>company</th>\n",
       "      <th>year</th>\n",
       "      <th>Price</th>\n",
       "      <th>kms_driven</th>\n",
       "      <th>fuel_type</th>\n",
       "    </tr>\n",
       "  </thead>\n",
       "  <tbody>\n",
       "    <tr>\n",
       "      <th>0</th>\n",
       "      <td>Hyundai Santro Xing XO eRLX Euro III</td>\n",
       "      <td>Hyundai</td>\n",
       "      <td>2007</td>\n",
       "      <td>80,000</td>\n",
       "      <td>45,000 kms</td>\n",
       "      <td>Petrol</td>\n",
       "    </tr>\n",
       "    <tr>\n",
       "      <th>1</th>\n",
       "      <td>Mahindra Jeep CL550 MDI</td>\n",
       "      <td>Mahindra</td>\n",
       "      <td>2006</td>\n",
       "      <td>4,25,000</td>\n",
       "      <td>40 kms</td>\n",
       "      <td>Diesel</td>\n",
       "    </tr>\n",
       "    <tr>\n",
       "      <th>2</th>\n",
       "      <td>Maruti Suzuki Alto 800 Vxi</td>\n",
       "      <td>Maruti</td>\n",
       "      <td>2018</td>\n",
       "      <td>Ask For Price</td>\n",
       "      <td>22,000 kms</td>\n",
       "      <td>Petrol</td>\n",
       "    </tr>\n",
       "    <tr>\n",
       "      <th>3</th>\n",
       "      <td>Hyundai Grand i10 Magna 1.2 Kappa VTVT</td>\n",
       "      <td>Hyundai</td>\n",
       "      <td>2014</td>\n",
       "      <td>3,25,000</td>\n",
       "      <td>28,000 kms</td>\n",
       "      <td>Petrol</td>\n",
       "    </tr>\n",
       "    <tr>\n",
       "      <th>4</th>\n",
       "      <td>Ford EcoSport Titanium 1.5L TDCi</td>\n",
       "      <td>Ford</td>\n",
       "      <td>2014</td>\n",
       "      <td>5,75,000</td>\n",
       "      <td>36,000 kms</td>\n",
       "      <td>Diesel</td>\n",
       "    </tr>\n",
       "  </tbody>\n",
       "</table>\n",
       "</div>"
      ],
      "text/plain": [
       "                                     name   company  year          Price  \\\n",
       "0    Hyundai Santro Xing XO eRLX Euro III   Hyundai  2007         80,000   \n",
       "1                 Mahindra Jeep CL550 MDI  Mahindra  2006       4,25,000   \n",
       "2              Maruti Suzuki Alto 800 Vxi    Maruti  2018  Ask For Price   \n",
       "3  Hyundai Grand i10 Magna 1.2 Kappa VTVT   Hyundai  2014       3,25,000   \n",
       "4        Ford EcoSport Titanium 1.5L TDCi      Ford  2014       5,75,000   \n",
       "\n",
       "   kms_driven fuel_type  \n",
       "0  45,000 kms    Petrol  \n",
       "1      40 kms    Diesel  \n",
       "2  22,000 kms    Petrol  \n",
       "3  28,000 kms    Petrol  \n",
       "4  36,000 kms    Diesel  "
      ]
     },
     "execution_count": 2,
     "metadata": {},
     "output_type": "execute_result"
    }
   ],
   "source": [
    "df=pd.read_csv('quikr_car.csv')\n",
    "df.head()"
   ]
  },
  {
   "cell_type": "markdown",
   "id": "7c035028",
   "metadata": {},
   "source": [
    "### Know your data: "
   ]
  },
  {
   "cell_type": "code",
   "execution_count": 3,
   "id": "7f624cc6",
   "metadata": {},
   "outputs": [
    {
     "data": {
      "text/html": [
       "<div>\n",
       "<style scoped>\n",
       "    .dataframe tbody tr th:only-of-type {\n",
       "        vertical-align: middle;\n",
       "    }\n",
       "\n",
       "    .dataframe tbody tr th {\n",
       "        vertical-align: top;\n",
       "    }\n",
       "\n",
       "    .dataframe thead th {\n",
       "        text-align: right;\n",
       "    }\n",
       "</style>\n",
       "<table border=\"1\" class=\"dataframe\">\n",
       "  <thead>\n",
       "    <tr style=\"text-align: right;\">\n",
       "      <th></th>\n",
       "      <th>name</th>\n",
       "      <th>company</th>\n",
       "      <th>year</th>\n",
       "      <th>Price</th>\n",
       "      <th>kms_driven</th>\n",
       "      <th>fuel_type</th>\n",
       "    </tr>\n",
       "  </thead>\n",
       "  <tbody>\n",
       "    <tr>\n",
       "      <th>0</th>\n",
       "      <td>Hyundai Santro Xing XO eRLX Euro III</td>\n",
       "      <td>Hyundai</td>\n",
       "      <td>2007</td>\n",
       "      <td>80,000</td>\n",
       "      <td>45,000 kms</td>\n",
       "      <td>Petrol</td>\n",
       "    </tr>\n",
       "    <tr>\n",
       "      <th>1</th>\n",
       "      <td>Mahindra Jeep CL550 MDI</td>\n",
       "      <td>Mahindra</td>\n",
       "      <td>2006</td>\n",
       "      <td>4,25,000</td>\n",
       "      <td>40 kms</td>\n",
       "      <td>Diesel</td>\n",
       "    </tr>\n",
       "    <tr>\n",
       "      <th>2</th>\n",
       "      <td>Maruti Suzuki Alto 800 Vxi</td>\n",
       "      <td>Maruti</td>\n",
       "      <td>2018</td>\n",
       "      <td>Ask For Price</td>\n",
       "      <td>22,000 kms</td>\n",
       "      <td>Petrol</td>\n",
       "    </tr>\n",
       "    <tr>\n",
       "      <th>3</th>\n",
       "      <td>Hyundai Grand i10 Magna 1.2 Kappa VTVT</td>\n",
       "      <td>Hyundai</td>\n",
       "      <td>2014</td>\n",
       "      <td>3,25,000</td>\n",
       "      <td>28,000 kms</td>\n",
       "      <td>Petrol</td>\n",
       "    </tr>\n",
       "    <tr>\n",
       "      <th>4</th>\n",
       "      <td>Ford EcoSport Titanium 1.5L TDCi</td>\n",
       "      <td>Ford</td>\n",
       "      <td>2014</td>\n",
       "      <td>5,75,000</td>\n",
       "      <td>36,000 kms</td>\n",
       "      <td>Diesel</td>\n",
       "    </tr>\n",
       "  </tbody>\n",
       "</table>\n",
       "</div>"
      ],
      "text/plain": [
       "                                     name   company  year          Price  \\\n",
       "0    Hyundai Santro Xing XO eRLX Euro III   Hyundai  2007         80,000   \n",
       "1                 Mahindra Jeep CL550 MDI  Mahindra  2006       4,25,000   \n",
       "2              Maruti Suzuki Alto 800 Vxi    Maruti  2018  Ask For Price   \n",
       "3  Hyundai Grand i10 Magna 1.2 Kappa VTVT   Hyundai  2014       3,25,000   \n",
       "4        Ford EcoSport Titanium 1.5L TDCi      Ford  2014       5,75,000   \n",
       "\n",
       "   kms_driven fuel_type  \n",
       "0  45,000 kms    Petrol  \n",
       "1      40 kms    Diesel  \n",
       "2  22,000 kms    Petrol  \n",
       "3  28,000 kms    Petrol  \n",
       "4  36,000 kms    Diesel  "
      ]
     },
     "execution_count": 3,
     "metadata": {},
     "output_type": "execute_result"
    }
   ],
   "source": [
    "df.head(5)"
   ]
  },
  {
   "cell_type": "code",
   "execution_count": 4,
   "id": "29d3f02e",
   "metadata": {},
   "outputs": [
    {
     "data": {
      "text/plain": [
       "(892, 6)"
      ]
     },
     "execution_count": 4,
     "metadata": {},
     "output_type": "execute_result"
    }
   ],
   "source": [
    "df.shape"
   ]
  },
  {
   "cell_type": "code",
   "execution_count": 5,
   "id": "caf4bb97",
   "metadata": {},
   "outputs": [
    {
     "data": {
      "text/plain": [
       "Index(['name', 'company', 'year', 'Price', 'kms_driven', 'fuel_type'], dtype='object')"
      ]
     },
     "execution_count": 5,
     "metadata": {},
     "output_type": "execute_result"
    }
   ],
   "source": [
    "df.columns"
   ]
  },
  {
   "cell_type": "code",
   "execution_count": 6,
   "id": "4850943f",
   "metadata": {},
   "outputs": [
    {
     "name": "stdout",
     "output_type": "stream",
     "text": [
      "<class 'pandas.core.frame.DataFrame'>\n",
      "RangeIndex: 892 entries, 0 to 891\n",
      "Data columns (total 6 columns):\n",
      " #   Column      Non-Null Count  Dtype \n",
      "---  ------      --------------  ----- \n",
      " 0   name        892 non-null    object\n",
      " 1   company     892 non-null    object\n",
      " 2   year        892 non-null    object\n",
      " 3   Price       892 non-null    object\n",
      " 4   kms_driven  840 non-null    object\n",
      " 5   fuel_type   837 non-null    object\n",
      "dtypes: object(6)\n",
      "memory usage: 41.9+ KB\n"
     ]
    }
   ],
   "source": [
    "df.info()"
   ]
  },
  {
   "cell_type": "code",
   "execution_count": 7,
   "id": "afeba2dd",
   "metadata": {},
   "outputs": [],
   "source": [
    "# Price has different type \"object\" it should be of \"int\" value.\n",
    "# Year has different type \"object\" it should be of  \"Date-Time\""
   ]
  },
  {
   "cell_type": "code",
   "execution_count": 8,
   "id": "8ed4bf85",
   "metadata": {},
   "outputs": [
    {
     "data": {
      "text/html": [
       "<div>\n",
       "<style scoped>\n",
       "    .dataframe tbody tr th:only-of-type {\n",
       "        vertical-align: middle;\n",
       "    }\n",
       "\n",
       "    .dataframe tbody tr th {\n",
       "        vertical-align: top;\n",
       "    }\n",
       "\n",
       "    .dataframe thead th {\n",
       "        text-align: right;\n",
       "    }\n",
       "</style>\n",
       "<table border=\"1\" class=\"dataframe\">\n",
       "  <thead>\n",
       "    <tr style=\"text-align: right;\">\n",
       "      <th></th>\n",
       "      <th>name</th>\n",
       "      <th>company</th>\n",
       "      <th>year</th>\n",
       "      <th>Price</th>\n",
       "      <th>kms_driven</th>\n",
       "      <th>fuel_type</th>\n",
       "    </tr>\n",
       "  </thead>\n",
       "  <tbody>\n",
       "    <tr>\n",
       "      <th>count</th>\n",
       "      <td>892</td>\n",
       "      <td>892</td>\n",
       "      <td>892</td>\n",
       "      <td>892</td>\n",
       "      <td>840</td>\n",
       "      <td>837</td>\n",
       "    </tr>\n",
       "    <tr>\n",
       "      <th>unique</th>\n",
       "      <td>525</td>\n",
       "      <td>48</td>\n",
       "      <td>61</td>\n",
       "      <td>274</td>\n",
       "      <td>258</td>\n",
       "      <td>3</td>\n",
       "    </tr>\n",
       "    <tr>\n",
       "      <th>top</th>\n",
       "      <td>Honda City</td>\n",
       "      <td>Maruti</td>\n",
       "      <td>2015</td>\n",
       "      <td>Ask For Price</td>\n",
       "      <td>45,000 kms</td>\n",
       "      <td>Petrol</td>\n",
       "    </tr>\n",
       "    <tr>\n",
       "      <th>freq</th>\n",
       "      <td>13</td>\n",
       "      <td>235</td>\n",
       "      <td>117</td>\n",
       "      <td>35</td>\n",
       "      <td>30</td>\n",
       "      <td>440</td>\n",
       "    </tr>\n",
       "  </tbody>\n",
       "</table>\n",
       "</div>"
      ],
      "text/plain": [
       "              name company  year          Price  kms_driven fuel_type\n",
       "count          892     892   892            892         840       837\n",
       "unique         525      48    61            274         258         3\n",
       "top     Honda City  Maruti  2015  Ask For Price  45,000 kms    Petrol\n",
       "freq            13     235   117             35          30       440"
      ]
     },
     "execution_count": 8,
     "metadata": {},
     "output_type": "execute_result"
    }
   ],
   "source": [
    "# statistical summary of data:\n",
    "\n",
    "df.describe()"
   ]
  },
  {
   "cell_type": "code",
   "execution_count": 9,
   "id": "9bc90dd4",
   "metadata": {},
   "outputs": [
    {
     "data": {
      "text/plain": [
       "0      45,000 \n",
       "1          40 \n",
       "2      22,000 \n",
       "3      28,000 \n",
       "4      36,000 \n",
       "        ...   \n",
       "887        NaN\n",
       "888    27,000 \n",
       "889    40,000 \n",
       "890     Petrol\n",
       "891     Petrol\n",
       "Name: kms_driven, Length: 892, dtype: object"
      ]
     },
     "execution_count": 9,
     "metadata": {},
     "output_type": "execute_result"
    }
   ],
   "source": [
    "df[\"kms_driven\"]=df[\"kms_driven\"].str.replace('kms','')\n",
    "df[\"kms_driven\"]"
   ]
  },
  {
   "cell_type": "code",
   "execution_count": 10,
   "id": "ad94e92d",
   "metadata": {},
   "outputs": [],
   "source": [
    "df[\"kms_driven\"]=df[\"kms_driven\"].replace('kms','')"
   ]
  },
  {
   "cell_type": "code",
   "execution_count": 11,
   "id": "5b5047dd",
   "metadata": {},
   "outputs": [],
   "source": [
    "df[\"kms_driven\"]=df[\"kms_driven\"].str.replace(',','')"
   ]
  },
  {
   "cell_type": "code",
   "execution_count": 12,
   "id": "5a657b0c",
   "metadata": {},
   "outputs": [],
   "source": [
    "df['Price']=df[\"Price\"].str.replace(',','')"
   ]
  },
  {
   "cell_type": "code",
   "execution_count": 13,
   "id": "0e5f6d44",
   "metadata": {},
   "outputs": [
    {
     "data": {
      "text/html": [
       "<div>\n",
       "<style scoped>\n",
       "    .dataframe tbody tr th:only-of-type {\n",
       "        vertical-align: middle;\n",
       "    }\n",
       "\n",
       "    .dataframe tbody tr th {\n",
       "        vertical-align: top;\n",
       "    }\n",
       "\n",
       "    .dataframe thead th {\n",
       "        text-align: right;\n",
       "    }\n",
       "</style>\n",
       "<table border=\"1\" class=\"dataframe\">\n",
       "  <thead>\n",
       "    <tr style=\"text-align: right;\">\n",
       "      <th></th>\n",
       "      <th>name</th>\n",
       "      <th>company</th>\n",
       "      <th>year</th>\n",
       "      <th>Price</th>\n",
       "      <th>kms_driven(kms)</th>\n",
       "      <th>fuel_type</th>\n",
       "    </tr>\n",
       "  </thead>\n",
       "  <tbody>\n",
       "    <tr>\n",
       "      <th>0</th>\n",
       "      <td>Hyundai Santro Xing XO eRLX Euro III</td>\n",
       "      <td>Hyundai</td>\n",
       "      <td>2007</td>\n",
       "      <td>80000</td>\n",
       "      <td>45000</td>\n",
       "      <td>Petrol</td>\n",
       "    </tr>\n",
       "    <tr>\n",
       "      <th>1</th>\n",
       "      <td>Mahindra Jeep CL550 MDI</td>\n",
       "      <td>Mahindra</td>\n",
       "      <td>2006</td>\n",
       "      <td>425000</td>\n",
       "      <td>40</td>\n",
       "      <td>Diesel</td>\n",
       "    </tr>\n",
       "    <tr>\n",
       "      <th>2</th>\n",
       "      <td>Maruti Suzuki Alto 800 Vxi</td>\n",
       "      <td>Maruti</td>\n",
       "      <td>2018</td>\n",
       "      <td>Ask For Price</td>\n",
       "      <td>22000</td>\n",
       "      <td>Petrol</td>\n",
       "    </tr>\n",
       "    <tr>\n",
       "      <th>3</th>\n",
       "      <td>Hyundai Grand i10 Magna 1.2 Kappa VTVT</td>\n",
       "      <td>Hyundai</td>\n",
       "      <td>2014</td>\n",
       "      <td>325000</td>\n",
       "      <td>28000</td>\n",
       "      <td>Petrol</td>\n",
       "    </tr>\n",
       "    <tr>\n",
       "      <th>4</th>\n",
       "      <td>Ford EcoSport Titanium 1.5L TDCi</td>\n",
       "      <td>Ford</td>\n",
       "      <td>2014</td>\n",
       "      <td>575000</td>\n",
       "      <td>36000</td>\n",
       "      <td>Diesel</td>\n",
       "    </tr>\n",
       "  </tbody>\n",
       "</table>\n",
       "</div>"
      ],
      "text/plain": [
       "                                     name   company  year          Price  \\\n",
       "0    Hyundai Santro Xing XO eRLX Euro III   Hyundai  2007          80000   \n",
       "1                 Mahindra Jeep CL550 MDI  Mahindra  2006         425000   \n",
       "2              Maruti Suzuki Alto 800 Vxi    Maruti  2018  Ask For Price   \n",
       "3  Hyundai Grand i10 Magna 1.2 Kappa VTVT   Hyundai  2014         325000   \n",
       "4        Ford EcoSport Titanium 1.5L TDCi      Ford  2014         575000   \n",
       "\n",
       "  kms_driven(kms) fuel_type  \n",
       "0          45000     Petrol  \n",
       "1             40     Diesel  \n",
       "2          22000     Petrol  \n",
       "3          28000     Petrol  \n",
       "4          36000     Diesel  "
      ]
     },
     "execution_count": 13,
     "metadata": {},
     "output_type": "execute_result"
    }
   ],
   "source": [
    "df=df.rename(columns={'kms_driven':'kms_driven(kms)'})\n",
    "df.head()"
   ]
  },
  {
   "cell_type": "code",
   "execution_count": 14,
   "id": "b04bc2ff",
   "metadata": {},
   "outputs": [
    {
     "data": {
      "text/plain": [
       "name                0\n",
       "company             0\n",
       "year                0\n",
       "Price               0\n",
       "kms_driven(kms)    52\n",
       "fuel_type          55\n",
       "dtype: int64"
      ]
     },
     "execution_count": 14,
     "metadata": {},
     "output_type": "execute_result"
    }
   ],
   "source": [
    "df.isnull().sum()"
   ]
  },
  {
   "cell_type": "code",
   "execution_count": 15,
   "id": "28c2a61b",
   "metadata": {},
   "outputs": [
    {
     "data": {
      "text/plain": [
       "array(['Hyundai', 'Mahindra', 'Maruti', 'Ford', 'Skoda', 'Audi', 'Toyota',\n",
       "       'Renault', 'Honda', 'Datsun', 'Mitsubishi', 'Tata', 'Volkswagen',\n",
       "       'I', 'Chevrolet', 'Mini', 'BMW', 'Nissan', 'Hindustan', 'Fiat',\n",
       "       'Commercial', 'MARUTI', 'Force', 'Mercedes', 'Land', 'Yamaha',\n",
       "       'selling', 'URJENT', 'Swift', 'Used', 'Jaguar', 'Jeep', 'tata',\n",
       "       'Sale', 'very', 'Volvo', 'i', '2012', 'Well', 'all', '7', '9',\n",
       "       'scratch', 'urgent', 'sell', 'TATA', 'Any', 'Tara'], dtype=object)"
      ]
     },
     "execution_count": 15,
     "metadata": {},
     "output_type": "execute_result"
    }
   ],
   "source": [
    "df[\"company\"].unique()"
   ]
  },
  {
   "cell_type": "code",
   "execution_count": 16,
   "id": "44cfeabf",
   "metadata": {},
   "outputs": [
    {
     "data": {
      "text/plain": [
       "array(['Petrol', 'Diesel', nan, 'LPG'], dtype=object)"
      ]
     },
     "execution_count": 16,
     "metadata": {},
     "output_type": "execute_result"
    }
   ],
   "source": [
    "df[\"fuel_type\"].unique()"
   ]
  },
  {
   "cell_type": "code",
   "execution_count": 17,
   "id": "91ae3c10",
   "metadata": {},
   "outputs": [
    {
     "data": {
      "text/plain": [
       "array(['2007', '2006', '2018', '2014', '2015', '2012', '2013', '2016',\n",
       "       '2010', '2017', '2008', '2011', '2019', '2009', '2005', '2000',\n",
       "       '...', '150k', 'TOUR', '2003', 'r 15', '2004', 'Zest', '/-Rs',\n",
       "       'sale', '1995', 'ara)', '2002', 'SELL', '2001', 'tion', 'odel',\n",
       "       '2 bs', 'arry', 'Eon', 'o...', 'ture', 'emi', 'car', 'able', 'no.',\n",
       "       'd...', 'SALE', 'digo', 'sell', 'd Ex', 'n...', 'e...', 'D...',\n",
       "       ', Ac', 'go .', 'k...', 'o c4', 'zire', 'cent', 'Sumo', 'cab',\n",
       "       't xe', 'EV2', 'r...', 'zest'], dtype=object)"
      ]
     },
     "execution_count": 17,
     "metadata": {},
     "output_type": "execute_result"
    }
   ],
   "source": [
    "df[\"year\"].unique()"
   ]
  },
  {
   "cell_type": "code",
   "execution_count": 18,
   "id": "c4e2c39f",
   "metadata": {},
   "outputs": [
    {
     "data": {
      "text/plain": [
       "array(['80000', '425000', 'Ask For Price', '325000', '575000', '175000',\n",
       "       '190000', '830000', '250000', '182000', '315000', '415000',\n",
       "       '320000', '1000000', '500000', '350000', '160000', '310000',\n",
       "       '75000', '100000', '290000', '95000', '180000', '385000', '105000',\n",
       "       '650000', '689999', '448000', '549000', '501000', '489999',\n",
       "       '280000', '349999', '284999', '345000', '499999', '235000',\n",
       "       '249999', '1475000', '395000', '220000', '170000', '85000',\n",
       "       '200000', '570000', '110000', '448999', '1891111', '159500',\n",
       "       '344999', '449999', '865000', '699000', '375000', '224999',\n",
       "       '1200000', '195000', '351000', '240000', '90000', '155000',\n",
       "       '600000', '189500', '210000', '390000', '135000', '1600000',\n",
       "       '701000', '265000', '525000', '372000', '635000', '550000',\n",
       "       '485000', '329500', '251111', '569999', '69999', '299999',\n",
       "       '399999', '450000', '270000', '158400', '179000', '125000',\n",
       "       '299000', '150000', '275000', '285000', '340000', '70000',\n",
       "       '289999', '849999', '749999', '274999', '984999', '599999',\n",
       "       '244999', '474999', '245000', '169500', '370000', '168000',\n",
       "       '145000', '98500', '209000', '185000', '900000', '699999',\n",
       "       '199999', '544999', '199000', '540000', '49000', '700000', '55000',\n",
       "       '895000', '355000', '565000', '365000', '40000', '400000',\n",
       "       '330000', '580000', '379000', '219000', '519000', '730000',\n",
       "       '2000000', '2100000', '1400000', '311000', '855000', '535000',\n",
       "       '178000', '300000', '255000', '549999', '380000', '57000',\n",
       "       '410000', '225000', '120000', '59000', '599000', '675000', '72500',\n",
       "       '610000', '230000', '520000', '524999', '424999', '644999',\n",
       "       '584999', '799999', '444999', '649999', '944999', '574999',\n",
       "       '374999', '130000', '401000', '1350000', '174999', '239999',\n",
       "       '99999', '324999', '1074999', '1130000', '149000', '770000',\n",
       "       '30000', '335000', '399000', '65000', '169999', '165000', '560000',\n",
       "       '950000', '715000', '45000', '940000', '155555', '1500000',\n",
       "       '495000', '800000', '1299000', '530000', '1499000', '32000',\n",
       "       '405000', '760000', '750000', '419000', '140000', '1540000',\n",
       "       '123000', '498000', '480000', '488000', '1525000', '548900',\n",
       "       '725000', '99000', '52000', '2800000', '499000', '381000',\n",
       "       '278000', '690000', '260000', '90001', '115000', '1599000',\n",
       "       '159000', '51999', '215000', '35000', '1150000', '269000', '60000',\n",
       "       '430000', '8500003', '401919', '490000', '424000', '205000',\n",
       "       '549900', '371500', '435000', '189700', '389700', '360000',\n",
       "       '295000', '114990', '1065000', '470000', '48000', '188000',\n",
       "       '465000', '179999', '2190000', '2390000', '1075000', '475000',\n",
       "       '1025000', '615000', '1900000', '1490000', '1510000', '1850000',\n",
       "       '790000', '1725000', '1225000', '68000', '970000', '3100000',\n",
       "       '899000', '88000', '53000', '568500', '71000', '590000', '795000',\n",
       "       '42000', '189000', '162000', '35999', '2900000', '39999', '50500',\n",
       "       '510000', '860000', '500001'], dtype=object)"
      ]
     },
     "execution_count": 18,
     "metadata": {},
     "output_type": "execute_result"
    }
   ],
   "source": [
    "df[\"Price\"].unique()"
   ]
  },
  {
   "cell_type": "code",
   "execution_count": 19,
   "id": "d87913e2",
   "metadata": {},
   "outputs": [
    {
     "data": {
      "text/plain": [
       "array(['45000 ', '40 ', '22000 ', '28000 ', '36000 ', '59000 ', '41000 ',\n",
       "       '25000 ', '24530 ', '60000 ', '30000 ', '32000 ', '48660 ',\n",
       "       '4000 ', '16934 ', '43000 ', '35550 ', '39522 ', '39000 ',\n",
       "       '55000 ', '72000 ', '15975 ', '70000 ', '23452 ', '35522 ',\n",
       "       '48508 ', '15487 ', '82000 ', '20000 ', '68000 ', '38000 ',\n",
       "       '27000 ', '33000 ', '46000 ', '16000 ', '47000 ', '35000 ',\n",
       "       '30874 ', '15000 ', '29685 ', '130000 ', '19000 ', nan, '54000 ',\n",
       "       '13000 ', '38200 ', '50000 ', '13500 ', '3600 ', '45863 ',\n",
       "       '60500 ', '12500 ', '18000 ', '13349 ', '29000 ', '44000 ',\n",
       "       '42000 ', '14000 ', '49000 ', '36200 ', '51000 ', '104000 ',\n",
       "       '33333 ', '33600 ', '5600 ', '7500 ', '26000 ', '24330 ', '65480 ',\n",
       "       '28028 ', '200000 ', '99000 ', '2800 ', '21000 ', '11000 ',\n",
       "       '66000 ', '3000 ', '7000 ', '38500 ', '37200 ', '43200 ', '24800 ',\n",
       "       '45872 ', '40000 ', '11400 ', '97200 ', '52000 ', '31000 ',\n",
       "       '175430 ', '37000 ', '65000 ', '3350 ', '75000 ', '62000 ',\n",
       "       '73000 ', '2200 ', '54870 ', '34580 ', '97000 ', '60 ', '80200 ',\n",
       "       '3200 ', '0000 ', '5000 ', '588 ', '71200 ', '175400 ', '9300 ',\n",
       "       '56758 ', '10000 ', '56450 ', '56000 ', '32700 ', '9000 ', '73 ',\n",
       "       '160000 ', '84000 ', '58559 ', '57000 ', '170000 ', '80000 ',\n",
       "       '6821 ', '23000 ', '34000 ', '1800 ', '400000 ', '48000 ',\n",
       "       '90000 ', '12000 ', '69900 ', '166000 ', '122 ', '0 ', '24000 ',\n",
       "       '36469 ', '7800 ', '24695 ', '15141 ', '59910 ', '100000 ',\n",
       "       '4500 ', '129000 ', '300 ', '131000 ', '111111 ', '59466 ',\n",
       "       '25500 ', '44005 ', '2110 ', '43222 ', '100200 ', '65 ', '140000 ',\n",
       "       '103553 ', '58000 ', '120000 ', '49800 ', '100 ', '81876 ',\n",
       "       '6020 ', '55700 ', '18500 ', '180000 ', '53000 ', '35500 ',\n",
       "       '22134 ', '1000 ', '8500 ', '87000 ', '6000 ', '15574 ', '8000 ',\n",
       "       '55800 ', '56400 ', '72160 ', '11500 ', '133000 ', '2000 ',\n",
       "       '88000 ', '65422 ', '117000 ', '150000 ', '10750 ', '6800 ', '5 ',\n",
       "       '9800 ', '57923 ', '30201 ', '6200 ', '37518 ', '24652 ', '383 ',\n",
       "       '95000 ', '3528 ', '52500 ', '47900 ', '52800 ', '195000 ',\n",
       "       '48008 ', '48247 ', '9400 ', '64000 ', '2137 ', '10544 ', '49500 ',\n",
       "       '147000 ', '90001 ', '48006 ', '74000 ', '85000 ', '29500 ',\n",
       "       '39700 ', '67000 ', '19336 ', '60105 ', '45933 ', '102563 ',\n",
       "       '28600 ', '41800 ', '116000 ', '42590 ', '7400 ', '54500 ',\n",
       "       '76000 ', '00 ', '11523 ', '38600 ', '95500 ', '37458 ', '85960 ',\n",
       "       '12516 ', '30600 ', '2550 ', '62500 ', '69000 ', '28400 ',\n",
       "       '68485 ', '3500 ', '85455 ', '63000 ', '1600 ', '77000 ', '26500 ',\n",
       "       '2875 ', '13900 ', '1500 ', '2450 ', '1625 ', '33400 ', '60123 ',\n",
       "       '38900 ', '137495 ', '91200 ', '146000 ', '100800 ', '2100 ',\n",
       "       '2500 ', '132000 ', 'Petrol'], dtype=object)"
      ]
     },
     "execution_count": 19,
     "metadata": {},
     "output_type": "execute_result"
    }
   ],
   "source": [
    "df[\"kms_driven(kms)\"].unique()"
   ]
  },
  {
   "cell_type": "raw",
   "id": "53a9ddaf",
   "metadata": {},
   "source": [
    "1.year has many non-year values and year has datatype object. Need to convert it into INT.\n",
    "2.price has one value \"Ask For Price\". price has datatype object/str.Need to convert it into to INT.\n",
    "3.\"kms_driven(kms)\" has data type Object. Need to convert it into INT.\n",
    "4.Column \"Fuel_Type\" has NAN vaue."
   ]
  },
  {
   "cell_type": "markdown",
   "id": "19d945db",
   "metadata": {},
   "source": [
    "### Data Wrangling/Cleaning "
   ]
  },
  {
   "cell_type": "code",
   "execution_count": 20,
   "id": "82195be1",
   "metadata": {},
   "outputs": [],
   "source": [
    "## 1st i would like to keep original dataset as: *** original_df***\n",
    "original_df=df.copy()"
   ]
  },
  {
   "cell_type": "code",
   "execution_count": 21,
   "id": "f01da35e",
   "metadata": {},
   "outputs": [
    {
     "data": {
      "text/plain": [
       "name                0\n",
       "company             0\n",
       "year                0\n",
       "Price               0\n",
       "kms_driven(kms)    52\n",
       "fuel_type          55\n",
       "dtype: int64"
      ]
     },
     "execution_count": 21,
     "metadata": {},
     "output_type": "execute_result"
    }
   ],
   "source": [
    "df.isnull().sum()"
   ]
  },
  {
   "cell_type": "code",
   "execution_count": 22,
   "id": "75ac4f30",
   "metadata": {},
   "outputs": [],
   "source": [
    "## Dealing with \"Year\" Column\n",
    "## Remove Non-Numeric Values and Invalid Entries:"
   ]
  },
  {
   "cell_type": "code",
   "execution_count": 23,
   "id": "a7be4ef1",
   "metadata": {},
   "outputs": [],
   "source": [
    "df = df[df['year'].str.isnumeric()]  #Filter the DataFrame to keep only rows where the 'year' column contains numeric values."
   ]
  },
  {
   "cell_type": "code",
   "execution_count": 24,
   "id": "4b5f6207",
   "metadata": {},
   "outputs": [
    {
     "data": {
      "text/plain": [
       "0      2007\n",
       "1      2006\n",
       "2      2018\n",
       "3      2014\n",
       "4      2014\n",
       "       ... \n",
       "886    2009\n",
       "888    2018\n",
       "889    2013\n",
       "890    2014\n",
       "891    2014\n",
       "Name: year, Length: 842, dtype: int32"
      ]
     },
     "execution_count": 24,
     "metadata": {},
     "output_type": "execute_result"
    }
   ],
   "source": [
    "df['year'].astype(int)"
   ]
  },
  {
   "cell_type": "code",
   "execution_count": 25,
   "id": "69f899ca",
   "metadata": {},
   "outputs": [],
   "source": [
    "df[\"year\"]=df['year'].astype(int)"
   ]
  },
  {
   "cell_type": "code",
   "execution_count": 26,
   "id": "f1a252fd",
   "metadata": {},
   "outputs": [
    {
     "data": {
      "text/plain": [
       "0      2007\n",
       "1      2006\n",
       "2      2018\n",
       "3      2014\n",
       "4      2014\n",
       "       ... \n",
       "886    2009\n",
       "888    2018\n",
       "889    2013\n",
       "890    2014\n",
       "891    2014\n",
       "Name: year, Length: 842, dtype: int32"
      ]
     },
     "execution_count": 26,
     "metadata": {},
     "output_type": "execute_result"
    }
   ],
   "source": [
    "df['year']"
   ]
  },
  {
   "cell_type": "code",
   "execution_count": 27,
   "id": "13edf6af",
   "metadata": {},
   "outputs": [],
   "source": [
    "## Dealing with \"Price\" Column\n",
    "# Remove the entries having \"Ask For Price\""
   ]
  },
  {
   "cell_type": "code",
   "execution_count": 28,
   "id": "4592fa16",
   "metadata": {},
   "outputs": [],
   "source": [
    "df=df[df['Price']!=\"Ask For Price\"]"
   ]
  },
  {
   "cell_type": "code",
   "execution_count": 29,
   "id": "10298361",
   "metadata": {},
   "outputs": [
    {
     "data": {
      "text/plain": [
       "0       80000\n",
       "1      425000\n",
       "3      325000\n",
       "4      575000\n",
       "6      175000\n",
       "        ...  \n",
       "886    300000\n",
       "888    260000\n",
       "889    390000\n",
       "890    180000\n",
       "891    160000\n",
       "Name: Price, Length: 819, dtype: object"
      ]
     },
     "execution_count": 29,
     "metadata": {},
     "output_type": "execute_result"
    }
   ],
   "source": [
    "df['Price']"
   ]
  },
  {
   "cell_type": "code",
   "execution_count": 30,
   "id": "314939f2",
   "metadata": {},
   "outputs": [
    {
     "data": {
      "text/plain": [
       "0       80000\n",
       "1      425000\n",
       "3      325000\n",
       "4      575000\n",
       "6      175000\n",
       "        ...  \n",
       "886    300000\n",
       "888    260000\n",
       "889    390000\n",
       "890    180000\n",
       "891    160000\n",
       "Name: Price, Length: 819, dtype: int32"
      ]
     },
     "execution_count": 30,
     "metadata": {},
     "output_type": "execute_result"
    }
   ],
   "source": [
    "df['Price'].astype(int)"
   ]
  },
  {
   "cell_type": "code",
   "execution_count": 31,
   "id": "cc45ffb8",
   "metadata": {},
   "outputs": [],
   "source": [
    "df['Price']=df['Price'].astype(int)"
   ]
  },
  {
   "cell_type": "code",
   "execution_count": 32,
   "id": "419ba2e1",
   "metadata": {},
   "outputs": [],
   "source": [
    "## Dealing with Column \"kms_driven(kms)\"\n",
    "# Keep only numeric entries"
   ]
  },
  {
   "cell_type": "code",
   "execution_count": 33,
   "id": "e3c591e3",
   "metadata": {},
   "outputs": [
    {
     "data": {
      "text/plain": [
       "0      False\n",
       "1      False\n",
       "3      False\n",
       "4      False\n",
       "6      False\n",
       "       ...  \n",
       "886    False\n",
       "888    False\n",
       "889    False\n",
       "890    False\n",
       "891    False\n",
       "Name: kms_driven(kms), Length: 819, dtype: bool"
      ]
     },
     "execution_count": 33,
     "metadata": {},
     "output_type": "execute_result"
    }
   ],
   "source": [
    "df['kms_driven(kms)'].str.isnumeric()"
   ]
  },
  {
   "cell_type": "code",
   "execution_count": 34,
   "id": "09aef0e3",
   "metadata": {},
   "outputs": [],
   "source": [
    "df = df[pd.to_numeric(df['kms_driven(kms)'], errors='coerce').notna()]\n",
    "df['kms_driven(kms)'] = pd.to_numeric(df['kms_driven(kms)'])\n"
   ]
  },
  {
   "cell_type": "code",
   "execution_count": 35,
   "id": "dc285bda",
   "metadata": {},
   "outputs": [],
   "source": [
    "df['kms_driven(kms)'] = pd.to_numeric(df['kms_driven(kms)'], errors='coerce')\n",
    "df['kms_driven(kms)'].fillna(0, inplace=True)  "
   ]
  },
  {
   "cell_type": "code",
   "execution_count": 36,
   "id": "1d9efb51",
   "metadata": {},
   "outputs": [
    {
     "data": {
      "text/plain": [
       "0       45000\n",
       "1          40\n",
       "3       28000\n",
       "4       36000\n",
       "6       41000\n",
       "        ...  \n",
       "883     50000\n",
       "885     30000\n",
       "886    132000\n",
       "888     27000\n",
       "889     40000\n",
       "Name: kms_driven(kms), Length: 817, dtype: int32"
      ]
     },
     "execution_count": 36,
     "metadata": {},
     "output_type": "execute_result"
    }
   ],
   "source": [
    "df['kms_driven(kms)'].astype(int)"
   ]
  },
  {
   "cell_type": "code",
   "execution_count": 37,
   "id": "06b7ca7d",
   "metadata": {},
   "outputs": [
    {
     "data": {
      "text/html": [
       "<div>\n",
       "<style scoped>\n",
       "    .dataframe tbody tr th:only-of-type {\n",
       "        vertical-align: middle;\n",
       "    }\n",
       "\n",
       "    .dataframe tbody tr th {\n",
       "        vertical-align: top;\n",
       "    }\n",
       "\n",
       "    .dataframe thead th {\n",
       "        text-align: right;\n",
       "    }\n",
       "</style>\n",
       "<table border=\"1\" class=\"dataframe\">\n",
       "  <thead>\n",
       "    <tr style=\"text-align: right;\">\n",
       "      <th></th>\n",
       "      <th>name</th>\n",
       "      <th>company</th>\n",
       "      <th>year</th>\n",
       "      <th>Price</th>\n",
       "      <th>kms_driven(kms)</th>\n",
       "      <th>fuel_type</th>\n",
       "    </tr>\n",
       "  </thead>\n",
       "  <tbody>\n",
       "    <tr>\n",
       "      <th>0</th>\n",
       "      <td>Hyundai Santro Xing XO eRLX Euro III</td>\n",
       "      <td>Hyundai</td>\n",
       "      <td>2007</td>\n",
       "      <td>80000</td>\n",
       "      <td>45000</td>\n",
       "      <td>Petrol</td>\n",
       "    </tr>\n",
       "    <tr>\n",
       "      <th>1</th>\n",
       "      <td>Mahindra Jeep CL550 MDI</td>\n",
       "      <td>Mahindra</td>\n",
       "      <td>2006</td>\n",
       "      <td>425000</td>\n",
       "      <td>40</td>\n",
       "      <td>Diesel</td>\n",
       "    </tr>\n",
       "    <tr>\n",
       "      <th>3</th>\n",
       "      <td>Hyundai Grand i10 Magna 1.2 Kappa VTVT</td>\n",
       "      <td>Hyundai</td>\n",
       "      <td>2014</td>\n",
       "      <td>325000</td>\n",
       "      <td>28000</td>\n",
       "      <td>Petrol</td>\n",
       "    </tr>\n",
       "    <tr>\n",
       "      <th>4</th>\n",
       "      <td>Ford EcoSport Titanium 1.5L TDCi</td>\n",
       "      <td>Ford</td>\n",
       "      <td>2014</td>\n",
       "      <td>575000</td>\n",
       "      <td>36000</td>\n",
       "      <td>Diesel</td>\n",
       "    </tr>\n",
       "    <tr>\n",
       "      <th>6</th>\n",
       "      <td>Ford Figo</td>\n",
       "      <td>Ford</td>\n",
       "      <td>2012</td>\n",
       "      <td>175000</td>\n",
       "      <td>41000</td>\n",
       "      <td>Diesel</td>\n",
       "    </tr>\n",
       "  </tbody>\n",
       "</table>\n",
       "</div>"
      ],
      "text/plain": [
       "                                     name   company  year   Price  \\\n",
       "0    Hyundai Santro Xing XO eRLX Euro III   Hyundai  2007   80000   \n",
       "1                 Mahindra Jeep CL550 MDI  Mahindra  2006  425000   \n",
       "3  Hyundai Grand i10 Magna 1.2 Kappa VTVT   Hyundai  2014  325000   \n",
       "4        Ford EcoSport Titanium 1.5L TDCi      Ford  2014  575000   \n",
       "6                               Ford Figo      Ford  2012  175000   \n",
       "\n",
       "   kms_driven(kms) fuel_type  \n",
       "0            45000    Petrol  \n",
       "1               40    Diesel  \n",
       "3            28000    Petrol  \n",
       "4            36000    Diesel  \n",
       "6            41000    Diesel  "
      ]
     },
     "execution_count": 37,
     "metadata": {},
     "output_type": "execute_result"
    }
   ],
   "source": [
    "df.head()"
   ]
  },
  {
   "cell_type": "code",
   "execution_count": 38,
   "id": "d5bddf6c",
   "metadata": {},
   "outputs": [
    {
     "data": {
      "text/plain": [
       "(817, 6)"
      ]
     },
     "execution_count": 38,
     "metadata": {},
     "output_type": "execute_result"
    }
   ],
   "source": [
    "df.shape"
   ]
  },
  {
   "cell_type": "code",
   "execution_count": 39,
   "id": "2014320d",
   "metadata": {},
   "outputs": [
    {
     "name": "stdout",
     "output_type": "stream",
     "text": [
      "<class 'pandas.core.frame.DataFrame'>\n",
      "Int64Index: 817 entries, 0 to 889\n",
      "Data columns (total 6 columns):\n",
      " #   Column           Non-Null Count  Dtype \n",
      "---  ------           --------------  ----- \n",
      " 0   name             817 non-null    object\n",
      " 1   company          817 non-null    object\n",
      " 2   year             817 non-null    int32 \n",
      " 3   Price            817 non-null    int32 \n",
      " 4   kms_driven(kms)  817 non-null    int64 \n",
      " 5   fuel_type        816 non-null    object\n",
      "dtypes: int32(2), int64(1), object(3)\n",
      "memory usage: 38.3+ KB\n"
     ]
    }
   ],
   "source": [
    "df.info()"
   ]
  },
  {
   "cell_type": "code",
   "execution_count": 40,
   "id": "bae006c8",
   "metadata": {},
   "outputs": [
    {
     "data": {
      "text/plain": [
       "1"
      ]
     },
     "execution_count": 40,
     "metadata": {},
     "output_type": "execute_result"
    }
   ],
   "source": [
    "df['fuel_type'].isna().sum()       ## There is one missing value in \"fuel_type\" column"
   ]
  },
  {
   "cell_type": "code",
   "execution_count": 41,
   "id": "621b4fea",
   "metadata": {},
   "outputs": [
    {
     "data": {
      "text/plain": [
       "0    Petrol\n",
       "dtype: object"
      ]
     },
     "execution_count": 41,
     "metadata": {},
     "output_type": "execute_result"
    }
   ],
   "source": [
    "mode_value=df['fuel_type'].mode()\n",
    "mode_value                                  "
   ]
  },
  {
   "cell_type": "code",
   "execution_count": 42,
   "id": "61116154",
   "metadata": {},
   "outputs": [],
   "source": [
    "## Let's impute that missing entry with the mode value of that column.\n",
    "df[\"fuel_type\"].replace(np.nan,mode_value[0],inplace=True)"
   ]
  },
  {
   "cell_type": "code",
   "execution_count": 43,
   "id": "c312fd9e",
   "metadata": {},
   "outputs": [
    {
     "name": "stdout",
     "output_type": "stream",
     "text": [
      "<class 'pandas.core.frame.DataFrame'>\n",
      "Int64Index: 817 entries, 0 to 889\n",
      "Data columns (total 6 columns):\n",
      " #   Column           Non-Null Count  Dtype \n",
      "---  ------           --------------  ----- \n",
      " 0   name             817 non-null    object\n",
      " 1   company          817 non-null    object\n",
      " 2   year             817 non-null    int32 \n",
      " 3   Price            817 non-null    int32 \n",
      " 4   kms_driven(kms)  817 non-null    int64 \n",
      " 5   fuel_type        817 non-null    object\n",
      "dtypes: int32(2), int64(1), object(3)\n",
      "memory usage: 38.3+ KB\n"
     ]
    }
   ],
   "source": [
    "df.info()"
   ]
  },
  {
   "cell_type": "code",
   "execution_count": 44,
   "id": "32448c0b",
   "metadata": {},
   "outputs": [
    {
     "data": {
      "text/plain": [
       "array(['Petrol', 'Diesel', 'LPG'], dtype=object)"
      ]
     },
     "execution_count": 44,
     "metadata": {},
     "output_type": "execute_result"
    }
   ],
   "source": [
    "df['fuel_type'].unique()"
   ]
  },
  {
   "cell_type": "code",
   "execution_count": 45,
   "id": "2e3a3f28",
   "metadata": {},
   "outputs": [],
   "source": [
    "## Now, I don't have any missing value presen in my datset."
   ]
  },
  {
   "cell_type": "markdown",
   "id": "5274b0b9",
   "metadata": {},
   "source": [
    "### Exploratory Data Analysis"
   ]
  },
  {
   "cell_type": "code",
   "execution_count": 46,
   "id": "d2c273af",
   "metadata": {},
   "outputs": [
    {
     "data": {
      "text/html": [
       "<div>\n",
       "<style scoped>\n",
       "    .dataframe tbody tr th:only-of-type {\n",
       "        vertical-align: middle;\n",
       "    }\n",
       "\n",
       "    .dataframe tbody tr th {\n",
       "        vertical-align: top;\n",
       "    }\n",
       "\n",
       "    .dataframe thead th {\n",
       "        text-align: right;\n",
       "    }\n",
       "</style>\n",
       "<table border=\"1\" class=\"dataframe\">\n",
       "  <thead>\n",
       "    <tr style=\"text-align: right;\">\n",
       "      <th></th>\n",
       "      <th>name</th>\n",
       "      <th>company</th>\n",
       "      <th>year</th>\n",
       "      <th>Price</th>\n",
       "      <th>kms_driven(kms)</th>\n",
       "      <th>fuel_type</th>\n",
       "    </tr>\n",
       "  </thead>\n",
       "  <tbody>\n",
       "    <tr>\n",
       "      <th>0</th>\n",
       "      <td>Hyundai Santro Xing XO eRLX Euro III</td>\n",
       "      <td>Hyundai</td>\n",
       "      <td>2007</td>\n",
       "      <td>80000</td>\n",
       "      <td>45000</td>\n",
       "      <td>Petrol</td>\n",
       "    </tr>\n",
       "    <tr>\n",
       "      <th>1</th>\n",
       "      <td>Mahindra Jeep CL550 MDI</td>\n",
       "      <td>Mahindra</td>\n",
       "      <td>2006</td>\n",
       "      <td>425000</td>\n",
       "      <td>40</td>\n",
       "      <td>Diesel</td>\n",
       "    </tr>\n",
       "  </tbody>\n",
       "</table>\n",
       "</div>"
      ],
      "text/plain": [
       "                                   name   company  year   Price  \\\n",
       "0  Hyundai Santro Xing XO eRLX Euro III   Hyundai  2007   80000   \n",
       "1               Mahindra Jeep CL550 MDI  Mahindra  2006  425000   \n",
       "\n",
       "   kms_driven(kms) fuel_type  \n",
       "0            45000    Petrol  \n",
       "1               40    Diesel  "
      ]
     },
     "execution_count": 46,
     "metadata": {},
     "output_type": "execute_result"
    }
   ],
   "source": [
    "df.head(2)"
   ]
  },
  {
   "cell_type": "code",
   "execution_count": 47,
   "id": "d8f1528b",
   "metadata": {},
   "outputs": [
    {
     "name": "stdout",
     "output_type": "stream",
     "text": [
      "<class 'pandas.core.frame.DataFrame'>\n",
      "Int64Index: 817 entries, 0 to 889\n",
      "Data columns (total 6 columns):\n",
      " #   Column           Non-Null Count  Dtype \n",
      "---  ------           --------------  ----- \n",
      " 0   name             817 non-null    object\n",
      " 1   company          817 non-null    object\n",
      " 2   year             817 non-null    int32 \n",
      " 3   Price            817 non-null    int32 \n",
      " 4   kms_driven(kms)  817 non-null    int64 \n",
      " 5   fuel_type        817 non-null    object\n",
      "dtypes: int32(2), int64(1), object(3)\n",
      "memory usage: 38.3+ KB\n"
     ]
    }
   ],
   "source": [
    "## Univariate Analysis\n",
    "df.info()"
   ]
  },
  {
   "cell_type": "code",
   "execution_count": 48,
   "id": "62c8d77a",
   "metadata": {},
   "outputs": [
    {
     "data": {
      "text/html": [
       "<div>\n",
       "<style scoped>\n",
       "    .dataframe tbody tr th:only-of-type {\n",
       "        vertical-align: middle;\n",
       "    }\n",
       "\n",
       "    .dataframe tbody tr th {\n",
       "        vertical-align: top;\n",
       "    }\n",
       "\n",
       "    .dataframe thead th {\n",
       "        text-align: right;\n",
       "    }\n",
       "</style>\n",
       "<table border=\"1\" class=\"dataframe\">\n",
       "  <thead>\n",
       "    <tr style=\"text-align: right;\">\n",
       "      <th></th>\n",
       "      <th>year</th>\n",
       "      <th>Price</th>\n",
       "      <th>kms_driven(kms)</th>\n",
       "    </tr>\n",
       "  </thead>\n",
       "  <tbody>\n",
       "    <tr>\n",
       "      <th>count</th>\n",
       "      <td>817.000000</td>\n",
       "      <td>8.170000e+02</td>\n",
       "      <td>817.000000</td>\n",
       "    </tr>\n",
       "    <tr>\n",
       "      <th>mean</th>\n",
       "      <td>2012.440636</td>\n",
       "      <td>4.115503e+05</td>\n",
       "      <td>46250.714810</td>\n",
       "    </tr>\n",
       "    <tr>\n",
       "      <th>std</th>\n",
       "      <td>4.002354</td>\n",
       "      <td>4.749173e+05</td>\n",
       "      <td>34283.745254</td>\n",
       "    </tr>\n",
       "    <tr>\n",
       "      <th>min</th>\n",
       "      <td>1995.000000</td>\n",
       "      <td>3.000000e+04</td>\n",
       "      <td>0.000000</td>\n",
       "    </tr>\n",
       "    <tr>\n",
       "      <th>25%</th>\n",
       "      <td>2010.000000</td>\n",
       "      <td>1.750000e+05</td>\n",
       "      <td>27000.000000</td>\n",
       "    </tr>\n",
       "    <tr>\n",
       "      <th>50%</th>\n",
       "      <td>2013.000000</td>\n",
       "      <td>2.999990e+05</td>\n",
       "      <td>41000.000000</td>\n",
       "    </tr>\n",
       "    <tr>\n",
       "      <th>75%</th>\n",
       "      <td>2015.000000</td>\n",
       "      <td>4.900000e+05</td>\n",
       "      <td>56758.000000</td>\n",
       "    </tr>\n",
       "    <tr>\n",
       "      <th>max</th>\n",
       "      <td>2019.000000</td>\n",
       "      <td>8.500003e+06</td>\n",
       "      <td>400000.000000</td>\n",
       "    </tr>\n",
       "  </tbody>\n",
       "</table>\n",
       "</div>"
      ],
      "text/plain": [
       "              year         Price  kms_driven(kms)\n",
       "count   817.000000  8.170000e+02       817.000000\n",
       "mean   2012.440636  4.115503e+05     46250.714810\n",
       "std       4.002354  4.749173e+05     34283.745254\n",
       "min    1995.000000  3.000000e+04         0.000000\n",
       "25%    2010.000000  1.750000e+05     27000.000000\n",
       "50%    2013.000000  2.999990e+05     41000.000000\n",
       "75%    2015.000000  4.900000e+05     56758.000000\n",
       "max    2019.000000  8.500003e+06    400000.000000"
      ]
     },
     "execution_count": 48,
     "metadata": {},
     "output_type": "execute_result"
    }
   ],
   "source": [
    "df.describe()"
   ]
  },
  {
   "cell_type": "code",
   "execution_count": 49,
   "id": "20987856",
   "metadata": {},
   "outputs": [
    {
     "data": {
      "text/plain": [
       "411550.2741738066"
      ]
     },
     "execution_count": 49,
     "metadata": {},
     "output_type": "execute_result"
    }
   ],
   "source": [
    "#Price Column\n",
    "\n",
    "df[\"Price\"].mean()"
   ]
  },
  {
   "cell_type": "code",
   "execution_count": 50,
   "id": "aa8ea562",
   "metadata": {},
   "outputs": [
    {
     "data": {
      "text/plain": [
       "8500003"
      ]
     },
     "execution_count": 50,
     "metadata": {},
     "output_type": "execute_result"
    }
   ],
   "source": [
    "df[\"Price\"].max()"
   ]
  },
  {
   "cell_type": "code",
   "execution_count": 51,
   "id": "d4fb2559",
   "metadata": {},
   "outputs": [
    {
     "data": {
      "text/plain": [
       "30000"
      ]
     },
     "execution_count": 51,
     "metadata": {},
     "output_type": "execute_result"
    }
   ],
   "source": [
    "df[\"Price\"].min()"
   ]
  },
  {
   "cell_type": "code",
   "execution_count": 52,
   "id": "f22af1bd",
   "metadata": {},
   "outputs": [
    {
     "data": {
      "text/plain": [
       "299999.0"
      ]
     },
     "execution_count": 52,
     "metadata": {},
     "output_type": "execute_result"
    }
   ],
   "source": [
    "med_price=df[\"Price\"].median()    ## There is outliers\n",
    "med_price"
   ]
  },
  {
   "cell_type": "code",
   "execution_count": 53,
   "id": "d75d79fa",
   "metadata": {},
   "outputs": [
    {
     "data": {
      "text/plain": [
       "46250.71481028152"
      ]
     },
     "execution_count": 53,
     "metadata": {},
     "output_type": "execute_result"
    }
   ],
   "source": [
    "# kms_driven(kms) Column\n",
    "df[\"kms_driven(kms)\"].mean()"
   ]
  },
  {
   "cell_type": "code",
   "execution_count": 54,
   "id": "dbef4233",
   "metadata": {},
   "outputs": [
    {
     "data": {
      "text/plain": [
       "41000.0"
      ]
     },
     "execution_count": 54,
     "metadata": {},
     "output_type": "execute_result"
    }
   ],
   "source": [
    "med_val=df[\"kms_driven(kms)\"].median()\n",
    "med_val"
   ]
  },
  {
   "cell_type": "code",
   "execution_count": 55,
   "id": "e163bd36",
   "metadata": {},
   "outputs": [
    {
     "data": {
      "text/plain": [
       "400000"
      ]
     },
     "execution_count": 55,
     "metadata": {},
     "output_type": "execute_result"
    }
   ],
   "source": [
    "max_value=df[\"kms_driven(kms)\"].max()\n",
    "max_value"
   ]
  },
  {
   "cell_type": "code",
   "execution_count": 56,
   "id": "35d90c58",
   "metadata": {},
   "outputs": [
    {
     "data": {
      "text/plain": [
       "0"
      ]
     },
     "execution_count": 56,
     "metadata": {},
     "output_type": "execute_result"
    }
   ],
   "source": [
    "min_value=df[\"kms_driven(kms)\"].min()\n",
    "min_value"
   ]
  },
  {
   "cell_type": "code",
   "execution_count": 57,
   "id": "9f6c0a3f",
   "metadata": {},
   "outputs": [
    {
     "data": {
      "text/plain": [
       "34283.745253881294"
      ]
     },
     "execution_count": 57,
     "metadata": {},
     "output_type": "execute_result"
    }
   ],
   "source": [
    "min_value=df[\"kms_driven(kms)\"].std()\n",
    "min_value"
   ]
  },
  {
   "cell_type": "code",
   "execution_count": 58,
   "id": "7a2f51a0",
   "metadata": {},
   "outputs": [
    {
     "data": {
      "text/plain": [
       "Text(0.5, 1.0, 'Boxplot for Numerical Column')"
      ]
     },
     "execution_count": 58,
     "metadata": {},
     "output_type": "execute_result"
    },
    {
     "data": {
      "image/png": "[encoded data removed]",
      "text/plain": [
       "<Figure size 1080x720 with 1 Axes>"
      ]
     },
     "metadata": {
      "needs_background": "light"
     },
     "output_type": "display_data"
    }
   ],
   "source": [
    "plt.figure(figsize=(15,10))\n",
    "sns.boxplot(data=df)\n",
    "plt.title('Boxplot for Numerical Column')"
   ]
  },
  {
   "cell_type": "code",
   "execution_count": 59,
   "id": "3a1a558f",
   "metadata": {},
   "outputs": [],
   "source": [
    "# Outliers Treatment of Price column\n",
    "\n",
    "df=df[df[\"Price\"]<2e6]"
   ]
  },
  {
   "cell_type": "code",
   "execution_count": 60,
   "id": "0e3fef6b",
   "metadata": {},
   "outputs": [
    {
     "name": "stdout",
     "output_type": "stream",
     "text": [
      "314999.0\n"
     ]
    }
   ],
   "source": [
    "# We should go for IQR .\n",
    "Q1_price = df[\"Price\"].quantile(0.25)\n",
    "Q3_price = df[\"Price\"].quantile(0.75)\n",
    "iqr_price= Q3_price-Q1_price\n",
    "print(iqr_price)"
   ]
  },
  {
   "cell_type": "code",
   "execution_count": 61,
   "id": "12d3a0f8",
   "metadata": {},
   "outputs": [
    {
     "name": "stdout",
     "output_type": "stream",
     "text": [
      "-297498.5\n",
      "962497.5\n"
     ]
    }
   ],
   "source": [
    "lower_bound = Q1_price - 1.5 * iqr_price\n",
    "print(lower_bound)\n",
    "upper_bound = Q3_price + 1.5 * iqr_price\n",
    "print(upper_bound)\n",
    "\n",
    "outliers = df[(df[\"Price\"] < lower_bound) | (df[\"Price\"] > upper_bound)]\n",
    "\n",
    "# Now Each values below the lower_bound will be replaced by \"lower_bound\"and all the values above the upper_bound will be replaced by \"upper_bound\".\n",
    "\n",
    "df.loc[df[\"Price\"] < lower_bound, \"Price\"] = med_price\n",
    "\n",
    "df.loc[df[\"Price\"] > upper_bound, \"Price\"] = upper_bound"
   ]
  },
  {
   "cell_type": "code",
   "execution_count": 62,
   "id": "7fc20f1b",
   "metadata": {},
   "outputs": [
    {
     "data": {
      "text/plain": [
       "<AxesSubplot:>"
      ]
     },
     "execution_count": 62,
     "metadata": {},
     "output_type": "execute_result"
    },
    {
     "data": {
      "image/png": "[encoded data removed]",
      "text/plain": [
       "<Figure size 720x576 with 1 Axes>"
      ]
     },
     "metadata": {
      "needs_background": "light"
     },
     "output_type": "display_data"
    }
   ],
   "source": [
    "df.plot(kind=\"box\",figsize=(10,8))"
   ]
  },
  {
   "cell_type": "code",
   "execution_count": 63,
   "id": "47c32e90",
   "metadata": {},
   "outputs": [],
   "source": [
    "# Outlier treatment of kms_driven(kms)\""
   ]
  },
  {
   "cell_type": "code",
   "execution_count": 64,
   "id": "1eee463d",
   "metadata": {},
   "outputs": [
    {
     "name": "stdout",
     "output_type": "stream",
     "text": [
      "27000.0\n",
      "57000.0\n",
      "30000.0\n"
     ]
    }
   ],
   "source": [
    "# We should go for IQR .\n",
    "Q1_kms = df[\"kms_driven(kms)\"].quantile(0.25)\n",
    "print(Q1_kms)\n",
    "Q3_kms = df[\"kms_driven(kms)\"].quantile(0.75)\n",
    "print(Q3_kms)\n",
    "iqr_kms= Q3_kms-Q1_kms\n",
    "print(iqr_kms)"
   ]
  },
  {
   "cell_type": "code",
   "execution_count": 65,
   "id": "301205af",
   "metadata": {},
   "outputs": [
    {
     "name": "stdout",
     "output_type": "stream",
     "text": [
      "-18000.0\n",
      "102000.0\n"
     ]
    }
   ],
   "source": [
    "lower_bound = Q1_kms - 1.5 * iqr_kms\n",
    "print(lower_bound)\n",
    "upper_bound = Q3_kms + 1.5 * iqr_kms\n",
    "print(upper_bound)\n",
    "\n",
    "outliers = df[(df[\"kms_driven(kms)\"] < lower_bound) | (df[\"kms_driven(kms)\"] > upper_bound)]\n",
    "\n",
    "# Now Each values below the lower_bound will be replaced by \"lower_bound\"and all the values above the upper_bound will be replaced by \"upper_bound\".\n",
    "\n",
    "df.loc[df[\"kms_driven(kms)\"] < lower_bound, \"kms_driven(kms)\"] = med_price\n",
    "\n",
    "df.loc[df[\"kms_driven(kms)\"] > upper_bound, \"kms_driven(kms)\"] = upper_bound"
   ]
  },
  {
   "cell_type": "code",
   "execution_count": 66,
   "id": "310d4d1f",
   "metadata": {},
   "outputs": [
    {
     "data": {
      "text/plain": [
       "<AxesSubplot:>"
      ]
     },
     "execution_count": 66,
     "metadata": {},
     "output_type": "execute_result"
    },
    {
     "data": {
      "image/png": "[encoded data removed]",
      "text/plain": [
       "<Figure size 720x576 with 1 Axes>"
      ]
     },
     "metadata": {
      "needs_background": "light"
     },
     "output_type": "display_data"
    }
   ],
   "source": [
    "df.plot(kind=\"box\",figsize=(10,8))"
   ]
  },
  {
   "cell_type": "code",
   "execution_count": 67,
   "id": "271cdafb",
   "metadata": {},
   "outputs": [
    {
     "data": {
      "text/plain": [
       "(809, 6)"
      ]
     },
     "execution_count": 67,
     "metadata": {},
     "output_type": "execute_result"
    }
   ],
   "source": [
    "df.shape"
   ]
  },
  {
   "cell_type": "code",
   "execution_count": 68,
   "id": "79188170",
   "metadata": {},
   "outputs": [],
   "source": [
    "## Now my dataset is free from outliers."
   ]
  },
  {
   "cell_type": "code",
   "execution_count": 69,
   "id": "63c6b62b",
   "metadata": {},
   "outputs": [
    {
     "data": {
      "text/html": [
       "<div>\n",
       "<style scoped>\n",
       "    .dataframe tbody tr th:only-of-type {\n",
       "        vertical-align: middle;\n",
       "    }\n",
       "\n",
       "    .dataframe tbody tr th {\n",
       "        vertical-align: top;\n",
       "    }\n",
       "\n",
       "    .dataframe thead th {\n",
       "        text-align: right;\n",
       "    }\n",
       "</style>\n",
       "<table border=\"1\" class=\"dataframe\">\n",
       "  <thead>\n",
       "    <tr style=\"text-align: right;\">\n",
       "      <th></th>\n",
       "      <th>name</th>\n",
       "      <th>company</th>\n",
       "      <th>year</th>\n",
       "      <th>Price</th>\n",
       "      <th>kms_driven(kms)</th>\n",
       "      <th>fuel_type</th>\n",
       "    </tr>\n",
       "  </thead>\n",
       "  <tbody>\n",
       "    <tr>\n",
       "      <th>0</th>\n",
       "      <td>Hyundai Santro Xing XO eRLX Euro III</td>\n",
       "      <td>Hyundai</td>\n",
       "      <td>2007</td>\n",
       "      <td>80000.0</td>\n",
       "      <td>45000</td>\n",
       "      <td>Petrol</td>\n",
       "    </tr>\n",
       "    <tr>\n",
       "      <th>1</th>\n",
       "      <td>Mahindra Jeep CL550 MDI</td>\n",
       "      <td>Mahindra</td>\n",
       "      <td>2006</td>\n",
       "      <td>425000.0</td>\n",
       "      <td>40</td>\n",
       "      <td>Diesel</td>\n",
       "    </tr>\n",
       "    <tr>\n",
       "      <th>3</th>\n",
       "      <td>Hyundai Grand i10 Magna 1.2 Kappa VTVT</td>\n",
       "      <td>Hyundai</td>\n",
       "      <td>2014</td>\n",
       "      <td>325000.0</td>\n",
       "      <td>28000</td>\n",
       "      <td>Petrol</td>\n",
       "    </tr>\n",
       "    <tr>\n",
       "      <th>4</th>\n",
       "      <td>Ford EcoSport Titanium 1.5L TDCi</td>\n",
       "      <td>Ford</td>\n",
       "      <td>2014</td>\n",
       "      <td>575000.0</td>\n",
       "      <td>36000</td>\n",
       "      <td>Diesel</td>\n",
       "    </tr>\n",
       "    <tr>\n",
       "      <th>6</th>\n",
       "      <td>Ford Figo</td>\n",
       "      <td>Ford</td>\n",
       "      <td>2012</td>\n",
       "      <td>175000.0</td>\n",
       "      <td>41000</td>\n",
       "      <td>Diesel</td>\n",
       "    </tr>\n",
       "  </tbody>\n",
       "</table>\n",
       "</div>"
      ],
      "text/plain": [
       "                                     name   company  year     Price  \\\n",
       "0    Hyundai Santro Xing XO eRLX Euro III   Hyundai  2007   80000.0   \n",
       "1                 Mahindra Jeep CL550 MDI  Mahindra  2006  425000.0   \n",
       "3  Hyundai Grand i10 Magna 1.2 Kappa VTVT   Hyundai  2014  325000.0   \n",
       "4        Ford EcoSport Titanium 1.5L TDCi      Ford  2014  575000.0   \n",
       "6                               Ford Figo      Ford  2012  175000.0   \n",
       "\n",
       "   kms_driven(kms) fuel_type  \n",
       "0            45000    Petrol  \n",
       "1               40    Diesel  \n",
       "3            28000    Petrol  \n",
       "4            36000    Diesel  \n",
       "6            41000    Diesel  "
      ]
     },
     "execution_count": 69,
     "metadata": {},
     "output_type": "execute_result"
    }
   ],
   "source": [
    "df.head()"
   ]
  },
  {
   "cell_type": "code",
   "execution_count": 70,
   "id": "f90a0611",
   "metadata": {},
   "outputs": [
    {
     "data": {
      "text/plain": [
       "<AxesSubplot:>"
      ]
     },
     "execution_count": 70,
     "metadata": {},
     "output_type": "execute_result"
    },
    {
     "data": {
      "image/png": "[encoded data removed]",
      "text/plain": [
       "<Figure size 432x288 with 2 Axes>"
      ]
     },
     "metadata": {
      "needs_background": "light"
     },
     "output_type": "display_data"
    }
   ],
   "source": [
    "sns.heatmap(df.corr(), annot=True)"
   ]
  },
  {
   "cell_type": "markdown",
   "id": "05d3e7ab",
   "metadata": {},
   "source": [
    "### Model Creation "
   ]
  },
  {
   "cell_type": "code",
   "execution_count": 71,
   "id": "ed82916a",
   "metadata": {},
   "outputs": [],
   "source": [
    "from sklearn.model_selection import train_test_split\n",
    "from sklearn.linear_model import LinearRegression\n",
    "from sklearn.metrics import r2_score\n",
    "from sklearn.preprocessing import OneHotEncoder\n",
    "from sklearn.compose import make_column_transformer\n",
    "from sklearn.pipeline import make_pipeline"
   ]
  },
  {
   "cell_type": "markdown",
   "id": "6a3ca081",
   "metadata": {},
   "source": [
    "### Identify Predictors and Target Variables"
   ]
  },
  {
   "cell_type": "code",
   "execution_count": 72,
   "id": "fd955ef0",
   "metadata": {},
   "outputs": [],
   "source": [
    "x=df.drop(columns='Price')\n",
    "y=df['Price']                   # Price is my Target Variable"
   ]
  },
  {
   "cell_type": "code",
   "execution_count": 73,
   "id": "f5d2bc19",
   "metadata": {},
   "outputs": [
    {
     "data": {
      "text/html": [
       "<div>\n",
       "<style scoped>\n",
       "    .dataframe tbody tr th:only-of-type {\n",
       "        vertical-align: middle;\n",
       "    }\n",
       "\n",
       "    .dataframe tbody tr th {\n",
       "        vertical-align: top;\n",
       "    }\n",
       "\n",
       "    .dataframe thead th {\n",
       "        text-align: right;\n",
       "    }\n",
       "</style>\n",
       "<table border=\"1\" class=\"dataframe\">\n",
       "  <thead>\n",
       "    <tr style=\"text-align: right;\">\n",
       "      <th></th>\n",
       "      <th>name</th>\n",
       "      <th>company</th>\n",
       "      <th>year</th>\n",
       "      <th>kms_driven(kms)</th>\n",
       "      <th>fuel_type</th>\n",
       "    </tr>\n",
       "  </thead>\n",
       "  <tbody>\n",
       "    <tr>\n",
       "      <th>0</th>\n",
       "      <td>Hyundai Santro Xing XO eRLX Euro III</td>\n",
       "      <td>Hyundai</td>\n",
       "      <td>2007</td>\n",
       "      <td>45000</td>\n",
       "      <td>Petrol</td>\n",
       "    </tr>\n",
       "    <tr>\n",
       "      <th>1</th>\n",
       "      <td>Mahindra Jeep CL550 MDI</td>\n",
       "      <td>Mahindra</td>\n",
       "      <td>2006</td>\n",
       "      <td>40</td>\n",
       "      <td>Diesel</td>\n",
       "    </tr>\n",
       "    <tr>\n",
       "      <th>3</th>\n",
       "      <td>Hyundai Grand i10 Magna 1.2 Kappa VTVT</td>\n",
       "      <td>Hyundai</td>\n",
       "      <td>2014</td>\n",
       "      <td>28000</td>\n",
       "      <td>Petrol</td>\n",
       "    </tr>\n",
       "    <tr>\n",
       "      <th>4</th>\n",
       "      <td>Ford EcoSport Titanium 1.5L TDCi</td>\n",
       "      <td>Ford</td>\n",
       "      <td>2014</td>\n",
       "      <td>36000</td>\n",
       "      <td>Diesel</td>\n",
       "    </tr>\n",
       "    <tr>\n",
       "      <th>6</th>\n",
       "      <td>Ford Figo</td>\n",
       "      <td>Ford</td>\n",
       "      <td>2012</td>\n",
       "      <td>41000</td>\n",
       "      <td>Diesel</td>\n",
       "    </tr>\n",
       "  </tbody>\n",
       "</table>\n",
       "</div>"
      ],
      "text/plain": [
       "                                     name   company  year  kms_driven(kms)  \\\n",
       "0    Hyundai Santro Xing XO eRLX Euro III   Hyundai  2007            45000   \n",
       "1                 Mahindra Jeep CL550 MDI  Mahindra  2006               40   \n",
       "3  Hyundai Grand i10 Magna 1.2 Kappa VTVT   Hyundai  2014            28000   \n",
       "4        Ford EcoSport Titanium 1.5L TDCi      Ford  2014            36000   \n",
       "6                               Ford Figo      Ford  2012            41000   \n",
       "\n",
       "  fuel_type  \n",
       "0    Petrol  \n",
       "1    Diesel  \n",
       "3    Petrol  \n",
       "4    Diesel  \n",
       "6    Diesel  "
      ]
     },
     "execution_count": 73,
     "metadata": {},
     "output_type": "execute_result"
    }
   ],
   "source": [
    "x.head()       # input variables/Predictors "
   ]
  },
  {
   "cell_type": "code",
   "execution_count": 74,
   "id": "278e14ac",
   "metadata": {},
   "outputs": [
    {
     "data": {
      "text/plain": [
       "0     80000.0\n",
       "1    425000.0\n",
       "3    325000.0\n",
       "4    575000.0\n",
       "6    175000.0\n",
       "Name: Price, dtype: float64"
      ]
     },
     "execution_count": 74,
     "metadata": {},
     "output_type": "execute_result"
    }
   ],
   "source": [
    "y.head()     # Target variable"
   ]
  },
  {
   "cell_type": "markdown",
   "id": "860496f6",
   "metadata": {},
   "source": [
    "### Split the data into train and test"
   ]
  },
  {
   "cell_type": "code",
   "execution_count": 75,
   "id": "76547ca7",
   "metadata": {},
   "outputs": [
    {
     "name": "stdout",
     "output_type": "stream",
     "text": [
      "(566, 5) (566,)\n",
      "(243, 5) (243,)\n"
     ]
    }
   ],
   "source": [
    "from sklearn.model_selection import train_test_split\n",
    "\n",
    "x_train, x_test, y_train, y_test = train_test_split(x,y, test_size=0.3)\n",
    "\n",
    "print(x_train.shape, y_train.shape)\n",
    "print(x_test.shape, y_test.shape)\n"
   ]
  },
  {
   "cell_type": "code",
   "execution_count": 76,
   "id": "f24b217d",
   "metadata": {},
   "outputs": [
    {
     "data": {
      "text/plain": [
       "OneHotEncoder()"
      ]
     },
     "execution_count": 76,
     "metadata": {},
     "output_type": "execute_result"
    }
   ],
   "source": [
    "#### I have 3 colum \"name\",\"company\" and \"company\" are categorical variable. 1st we need to encode these variables.\n",
    "## I'm using one-hot-encoder method.\n",
    "# OneHotEncoder from the sklearn.preprocessing module to perform one-hot encoding on categorical variables in your DataFrame.\n",
    "\n",
    "from sklearn.preprocessing import OneHotEncoder  \n",
    "\n",
    "ohe=OneHotEncoder()\n",
    "ohe.fit(x[['name','company','fuel_type']]) #The fit method of the OneHotEncoder is used to fit the encoder on the specified categorical columns in df"
   ]
  },
  {
   "cell_type": "code",
   "execution_count": 77,
   "id": "02177929",
   "metadata": {},
   "outputs": [
    {
     "data": {
      "text/plain": [
       "[array(['Audi A4 1.8 TFSI Multitronic Premium Plus',\n",
       "        'Audi A4 2.0 TDI 177bhp Premium', 'Audi A6 2.0 TDI Premium',\n",
       "        'Audi A8', 'Audi Q3 2.0 TDI quattro Premium', 'Audi Q7',\n",
       "        'BMW 3 Series 320d Sedan', 'BMW 3 Series 320i',\n",
       "        'BMW 5 Series 520d Sedan', 'BMW 5 Series 530i',\n",
       "        'BMW 7 Series 740Li Sedan', 'BMW X1', 'BMW X1 sDrive20d',\n",
       "        'BMW X1 xDrive20d xLine', 'Chevrolet Beat',\n",
       "        'Chevrolet Beat Diesel', 'Chevrolet Beat LS Diesel',\n",
       "        'Chevrolet Beat LS Petrol', 'Chevrolet Beat LT Diesel',\n",
       "        'Chevrolet Beat LT Opt Diesel', 'Chevrolet Beat LT Petrol',\n",
       "        'Chevrolet Beat PS Diesel', 'Chevrolet Cruze LTZ',\n",
       "        'Chevrolet Cruze LTZ AT', 'Chevrolet Enjoy',\n",
       "        'Chevrolet Enjoy 1.4 LS 8 STR', 'Chevrolet Sail 1.2 LS',\n",
       "        'Chevrolet Sail UVA Petrol LT ABS', 'Chevrolet Spark',\n",
       "        'Chevrolet Spark 1.0 LT', 'Chevrolet Spark LS 1.0',\n",
       "        'Chevrolet Spark LT 1.0', 'Chevrolet Spark LT 1.0 Airbag',\n",
       "        'Chevrolet Tavera LS B3 10 Seats BSII', 'Chevrolet Tavera Neo',\n",
       "        'Datsun GO T O', 'Datsun Go Plus', 'Datsun Redi GO',\n",
       "        'Datsun Redi GO S', 'Datsun Redi GO T O',\n",
       "        'Fiat Linea Emotion 1.4 L T Jet Petrol', 'Fiat Petra ELX 1.2 PS',\n",
       "        'Fiat Punto Emotion 1.2', 'Force Motors Force One LX ABS 7 STR',\n",
       "        'Force Motors One SUV', 'Ford EcoSport',\n",
       "        'Ford EcoSport Ambiente 1.5L TDCi',\n",
       "        'Ford EcoSport Titanium 1.5 TDCi',\n",
       "        'Ford EcoSport Titanium 1.5L TDCi',\n",
       "        'Ford EcoSport Trend 1.5 Ti VCT', 'Ford EcoSport Trend 1.5L TDCi',\n",
       "        'Ford EcoSport Trend 1.5L Ti VCT', 'Ford Fiesta',\n",
       "        'Ford Fiesta SXi 1.6 ABS', 'Ford Figo', 'Ford Figo Diesel EXI',\n",
       "        'Ford Figo Diesel EXI Option',\n",
       "        'Ford Figo Duratorq Diesel Titanium 1.4', 'Ford Figo Petrol LXI',\n",
       "        'Ford Figo Petrol Titanium', 'Ford Fusion 1.4 TDCi Diesel',\n",
       "        'Ford Ikon 1.3 CLXi NXt Finesse', 'Ford Ikon 1.3 Flair Josh 100',\n",
       "        'Ford Ikon 1.6 Nxt', 'Hindustan Motors Ambassador',\n",
       "        'Hindustan Motors Ambassador Classic Mark 4 – Befo',\n",
       "        'Honda Accord', 'Honda Amaze', 'Honda Amaze 1.2 S i VTEC',\n",
       "        'Honda Amaze 1.2 VX i VTEC', 'Honda Amaze 1.5 E i DTEC',\n",
       "        'Honda Amaze 1.5 S i DTEC', 'Honda Amaze 1.5 SX i DTEC',\n",
       "        'Honda Brio', 'Honda Brio V MT', 'Honda Brio VX AT', 'Honda City',\n",
       "        'Honda City 1.5 E MT', 'Honda City 1.5 EXi New',\n",
       "        'Honda City 1.5 S Inspire', 'Honda City 1.5 S MT',\n",
       "        'Honda City 1.5 V AT', 'Honda City 1.5 V MT',\n",
       "        'Honda City 1.5 V MT Exclusive', 'Honda City SV',\n",
       "        'Honda City VX O MT Diesel', 'Honda City VX Petrol',\n",
       "        'Honda City ZX CVT', 'Honda City ZX EXi', 'Honda City ZX GXi',\n",
       "        'Honda City ZX VTEC', 'Honda Jazz S MT', 'Honda Jazz VX MT',\n",
       "        'Honda Mobilio', 'Honda Mobilio S i DTEC',\n",
       "        'Honda WR V S MT Petrol', 'Hyundai Accent',\n",
       "        'Hyundai Accent Executive Edition', 'Hyundai Accent GLE',\n",
       "        'Hyundai Accent GLX', 'Hyundai Creta', 'Hyundai Creta 1.6 SX',\n",
       "        'Hyundai Creta 1.6 SX Plus Petrol',\n",
       "        'Hyundai Creta 1.6 SX Plus Petrol AT', 'Hyundai Elantra 1.8 S',\n",
       "        'Hyundai Elantra SX', 'Hyundai Elite i20',\n",
       "        'Hyundai Elite i20 Asta 1.2', 'Hyundai Elite i20 Asta 1.4 CRDI',\n",
       "        'Hyundai Elite i20 Magna 1.2', 'Hyundai Elite i20 Sportz 1.2',\n",
       "        'Hyundai Eon', 'Hyundai Eon D Lite Plus', 'Hyundai Eon Era Plus',\n",
       "        'Hyundai Eon Magna', 'Hyundai Eon Magna Plus',\n",
       "        'Hyundai Eon Sportz', 'Hyundai Fluidic Verna 1.6 CRDi SX',\n",
       "        'Hyundai Getz', 'Hyundai Getz GLE', 'Hyundai Getz Prime 1.3 GLX',\n",
       "        'Hyundai Getz Prime 1.3 GVS', 'Hyundai Grand i10',\n",
       "        'Hyundai Grand i10 Asta 1.1 CRDi',\n",
       "        'Hyundai Grand i10 Asta 1.2 Kappa VTVT',\n",
       "        'Hyundai Grand i10 Asta 1.2 Kappa VTVT O',\n",
       "        'Hyundai Grand i10 Magna 1.2 Kappa VTVT',\n",
       "        'Hyundai Grand i10 Magna AT 1.2 Kappa VTVT',\n",
       "        'Hyundai Grand i10 Sportz 1.2 Kappa VTVT',\n",
       "        'Hyundai Grand i10 Sportz O 1.2 Kappa VTVT', 'Hyundai Santro',\n",
       "        'Hyundai Santro AE GLS Audio', 'Hyundai Santro Xing',\n",
       "        'Hyundai Santro Xing GL', 'Hyundai Santro Xing GLS',\n",
       "        'Hyundai Santro Xing XL AT eRLX Euro III',\n",
       "        'Hyundai Santro Xing XL eRLX Euro III',\n",
       "        'Hyundai Santro Xing XO eRLX Euro III', 'Hyundai Santro Xing XS',\n",
       "        'Hyundai Sonata Transform 2.4 GDi MT', 'Hyundai Verna',\n",
       "        'Hyundai Verna 1.4 VTVT', 'Hyundai Verna 1.6 CRDI E',\n",
       "        'Hyundai Verna 1.6 CRDI SX', 'Hyundai Verna 1.6 CRDI SX Plus AT',\n",
       "        'Hyundai Verna 1.6 EX VTVT', 'Hyundai Verna 1.6 SX VTVT AT',\n",
       "        'Hyundai Verna Fluidic', 'Hyundai Verna Fluidic 1.6 VTVT SX',\n",
       "        'Hyundai Verna Fluidic New', 'Hyundai Verna Transform SX VTVT',\n",
       "        'Hyundai Verna VGT CRDi SX ABS', 'Hyundai Xcent Base 1.1 CRDi',\n",
       "        'Hyundai Xcent SX 1.2', 'Hyundai i10', 'Hyundai i10 Era',\n",
       "        'Hyundai i10 Magna 1.2', 'Hyundai i10 Magna 1.2 Kappa2',\n",
       "        'Hyundai i10 Sportz', 'Hyundai i10 Sportz 1.2', 'Hyundai i20',\n",
       "        'Hyundai i20 Active', 'Hyundai i20 Active 1.2 SX',\n",
       "        'Hyundai i20 Active 1.4L SX O', 'Hyundai i20 Asta',\n",
       "        'Hyundai i20 Asta 1.2', 'Hyundai i20 Asta 1.4 CRDI 6 Speed',\n",
       "        'Hyundai i20 Magna', 'Hyundai i20 Magna 1.2',\n",
       "        'Hyundai i20 Magna O 1.2', 'Hyundai i20 Select Variant',\n",
       "        'Hyundai i20 Sportz 1.2', 'Hyundai i20 Sportz 1.4 CRDI',\n",
       "        'Jeep Wrangler Unlimited 4x4 Diesel', 'Mahindra Bolero DI',\n",
       "        'Mahindra Bolero DI BSII', 'Mahindra Bolero Power Plus SLE',\n",
       "        'Mahindra Bolero SLE BS IV', 'Mahindra Jeep CL550 MDI',\n",
       "        'Mahindra Jeep MM 550 XDB', 'Mahindra KUV100',\n",
       "        'Mahindra KUV100 K8 6 STR', 'Mahindra KUV100 K8 D 6 STR',\n",
       "        'Mahindra Logan', 'Mahindra Logan Diesel 1.5 DLS',\n",
       "        'Mahindra Quanto C4', 'Mahindra Quanto C8', 'Mahindra Scorpio',\n",
       "        'Mahindra Scorpio 2.6 CRDe', 'Mahindra Scorpio 2.6 SLX',\n",
       "        'Mahindra Scorpio LX BS III', 'Mahindra Scorpio S10',\n",
       "        'Mahindra Scorpio S10 4WD', 'Mahindra Scorpio S4',\n",
       "        'Mahindra Scorpio SLE BS IV', 'Mahindra Scorpio SLX',\n",
       "        'Mahindra Scorpio SLX 2.6 Turbo 8 Str',\n",
       "        'Mahindra Scorpio VLX 2.2 mHawk Airbag BSIV',\n",
       "        'Mahindra Scorpio VLX 2WD BS IV',\n",
       "        'Mahindra Scorpio VLX 4WD Airbag', 'Mahindra Scorpio VLX Airbag',\n",
       "        'Mahindra Scorpio VLX Special Edition BS III',\n",
       "        'Mahindra Scorpio Vlx BSIV',\n",
       "        'Mahindra Scorpio W Turbo 2.6DX 9 Seater',\n",
       "        'Mahindra TUV300 T4 Plus', 'Mahindra TUV300 T8',\n",
       "        'Mahindra Thar CRDe 4x4 AC', 'Mahindra XUV500',\n",
       "        'Mahindra XUV500 W10', 'Mahindra XUV500 W6', 'Mahindra XUV500 W8',\n",
       "        'Mahindra XUV500 W8 AWD 2013', 'Mahindra Xylo D2',\n",
       "        'Mahindra Xylo D2 BS IV', 'Mahindra Xylo E4', 'Mahindra Xylo E8',\n",
       "        'Mahindra Xylo E8 BS IV', 'Maruti Suzuki 800',\n",
       "        'Maruti Suzuki 800 Std BS III', 'Maruti Suzuki A Star Lxi',\n",
       "        'Maruti Suzuki Alto', 'Maruti Suzuki Alto 800',\n",
       "        'Maruti Suzuki Alto 800 LXI CNG O', 'Maruti Suzuki Alto 800 Lx',\n",
       "        'Maruti Suzuki Alto 800 Lxi', 'Maruti Suzuki Alto 800 Vxi',\n",
       "        'Maruti Suzuki Alto AX', 'Maruti Suzuki Alto K10 LXi CNG',\n",
       "        'Maruti Suzuki Alto K10 New', 'Maruti Suzuki Alto K10 VXi',\n",
       "        'Maruti Suzuki Alto K10 VXi AMT', 'Maruti Suzuki Alto K10 VXi AT',\n",
       "        'Maruti Suzuki Alto LX', 'Maruti Suzuki Alto LXi BS III',\n",
       "        'Maruti Suzuki Alto Std BS IV', 'Maruti Suzuki Baleno Delta 1.2',\n",
       "        'Maruti Suzuki Baleno Sigma 1.2', 'Maruti Suzuki Baleno Zeta 1.2',\n",
       "        'Maruti Suzuki Celerio VDi', 'Maruti Suzuki Ciaz VXi Plus',\n",
       "        'Maruti Suzuki Ciaz ZXI Plus', 'Maruti Suzuki Ciaz ZXi Plus RS',\n",
       "        'Maruti Suzuki Dzire', 'Maruti Suzuki Dzire LDI',\n",
       "        'Maruti Suzuki Dzire VDI', 'Maruti Suzuki Dzire ZXI',\n",
       "        'Maruti Suzuki Eeco 5 STR WITH AC HTR', 'Maruti Suzuki Eeco 7 STR',\n",
       "        'Maruti Suzuki Ertiga', 'Maruti Suzuki Ertiga LDi',\n",
       "        'Maruti Suzuki Ertiga VDi', 'Maruti Suzuki Ertiga Vxi',\n",
       "        'Maruti Suzuki Ertiga ZXI Plus', 'Maruti Suzuki Ertiga ZXi',\n",
       "        'Maruti Suzuki Esteem LXi BS III',\n",
       "        'Maruti Suzuki Esteem VXi BS III', 'Maruti Suzuki Estilo LX BS IV',\n",
       "        'Maruti Suzuki Estilo VXi ABS BS IV',\n",
       "        'Maruti Suzuki Maruti 800 AC', 'Maruti Suzuki Maruti 800 Std',\n",
       "        'Maruti Suzuki Maruti 800 Std – Befo', 'Maruti Suzuki Omni',\n",
       "        'Maruti Suzuki Omni 8 STR BS III',\n",
       "        'Maruti Suzuki Omni E 8 STR BS IV', 'Maruti Suzuki Omni LPG BS IV',\n",
       "        'Maruti Suzuki Omni Limited Edition',\n",
       "        'Maruti Suzuki Omni Select Variant', 'Maruti Suzuki Ritz',\n",
       "        'Maruti Suzuki Ritz GENUS VXI', 'Maruti Suzuki Ritz LDi',\n",
       "        'Maruti Suzuki Ritz VDi', 'Maruti Suzuki Ritz VXI',\n",
       "        'Maruti Suzuki Ritz VXI ABS', 'Maruti Suzuki S Cross Sigma 1.3',\n",
       "        'Maruti Suzuki SX4', 'Maruti Suzuki SX4 Celebration Diesel',\n",
       "        'Maruti Suzuki SX4 ZXI MT', 'Maruti Suzuki Stingray VXi',\n",
       "        'Maruti Suzuki Swift', 'Maruti Suzuki Swift Dzire',\n",
       "        'Maruti Suzuki Swift Dzire Tour LDi',\n",
       "        'Maruti Suzuki Swift Dzire Tour LXi',\n",
       "        'Maruti Suzuki Swift Dzire Tour VDi',\n",
       "        'Maruti Suzuki Swift Dzire Tour VXi',\n",
       "        'Maruti Suzuki Swift Dzire VDi',\n",
       "        'Maruti Suzuki Swift Dzire VXi 1.2 BS IV',\n",
       "        'Maruti Suzuki Swift Dzire ZDi', 'Maruti Suzuki Swift GLAM',\n",
       "        'Maruti Suzuki Swift LDi', 'Maruti Suzuki Swift RS VDI',\n",
       "        'Maruti Suzuki Swift Select Variant', 'Maruti Suzuki Swift VDi',\n",
       "        'Maruti Suzuki Swift VDi ABS', 'Maruti Suzuki Swift VDi BS IV',\n",
       "        'Maruti Suzuki Swift VXI BSIII',\n",
       "        'Maruti Suzuki Swift VXi 1.2 ABS BS IV',\n",
       "        'Maruti Suzuki Swift VXi 1.2 BS IV',\n",
       "        'Maruti Suzuki Swift Vdi BSIII',\n",
       "        'Maruti Suzuki Swift ZXi 1.2 BS IV',\n",
       "        'Maruti Suzuki Versa DX2 8 SEATER BSIII',\n",
       "        'Maruti Suzuki Vitara Brezza', 'Maruti Suzuki Vitara Brezza LDi O',\n",
       "        'Maruti Suzuki Vitara Brezza ZDi', 'Maruti Suzuki Wagon R',\n",
       "        'Maruti Suzuki Wagon R 1.0', 'Maruti Suzuki Wagon R 1.0 VXi',\n",
       "        'Maruti Suzuki Wagon R AX BSIV', 'Maruti Suzuki Wagon R Duo Lxi',\n",
       "        'Maruti Suzuki Wagon R LX BS III',\n",
       "        'Maruti Suzuki Wagon R LX BS IV',\n",
       "        'Maruti Suzuki Wagon R LXI BS IV',\n",
       "        'Maruti Suzuki Wagon R LXi BS III',\n",
       "        'Maruti Suzuki Wagon R Select Variant',\n",
       "        'Maruti Suzuki Wagon R VXI BS IV',\n",
       "        'Maruti Suzuki Wagon R VXi BS III',\n",
       "        'Maruti Suzuki Wagon R VXi Minor', 'Maruti Suzuki Zen Estilo',\n",
       "        'Maruti Suzuki Zen Estilo LXI Green CNG',\n",
       "        'Maruti Suzuki Zen LX BSII', 'Maruti Suzuki Zen LXi BS III',\n",
       "        'Maruti Suzuki Zen LXi BSII', 'Maruti Suzuki Zen VX',\n",
       "        'Mercedes Benz A Class A 180 Sport Petrol',\n",
       "        'Mercedes Benz B Class B180 Sports',\n",
       "        'Mercedes Benz C Class 200 CDI Classic',\n",
       "        'Mercedes Benz C Class 200 K MT',\n",
       "        'Mercedes Benz C Class C 220 CDI Avantgarde', 'Mini Cooper S',\n",
       "        'Mini Cooper S 1.6', 'Mitsubishi Lancer 1.8 LXi',\n",
       "        'Mitsubishi Pajero Sport 2.5 AT',\n",
       "        'Mitsubishi Pajero Sport Limited Edition', 'Nissan Micra XL',\n",
       "        'Nissan Micra XV', 'Nissan Sunny', 'Nissan Sunny XL',\n",
       "        'Nissan Terrano XL D Plus', 'Nissan X Trail Select Variant',\n",
       "        'Renault Duster', 'Renault Duster 110 PS RxL Diesel',\n",
       "        'Renault Duster 110 PS RxZ Diesel',\n",
       "        'Renault Duster 110 PS RxZ Diesel Plus',\n",
       "        'Renault Duster 110PS Diesel RxZ',\n",
       "        'Renault Duster 85 PS RxE Diesel',\n",
       "        'Renault Duster 85 PS RxL Diesel',\n",
       "        'Renault Duster 85 PS RxL Explore LE',\n",
       "        'Renault Duster 85PS Diesel RxL Optional with Nav',\n",
       "        'Renault Duster RxL Petrol', 'Renault Kwid', 'Renault Kwid 1.0',\n",
       "        'Renault Kwid 1.0 RXT AMT', 'Renault Kwid RXT',\n",
       "        'Renault Kwid RXT Opt', 'Renault Lodgy 85 PS RXL',\n",
       "        'Renault Scala RxL Diesel', 'Renault Scala RxL Diesel Travelogue',\n",
       "        'Skoda Fabia', 'Skoda Fabia 1.2L Diesel Ambiente',\n",
       "        'Skoda Fabia 1.2L Diesel Elegance', 'Skoda Fabia Classic 1.2 MPI',\n",
       "        'Skoda Laura', 'Skoda Octavia Classic 1.9 TDI MT',\n",
       "        'Skoda Rapid Elegance 1.6 TDI CR MT', 'Skoda Superb 1.8 TFSI AT',\n",
       "        'Skoda Yeti Ambition 2.0 TDI CR 4x2', 'Tata Aria Pleasure 4X2',\n",
       "        'Tata Bolt XM Petrol', 'Tata Indica', 'Tata Indica V2',\n",
       "        'Tata Indica V2 DLE BS III', 'Tata Indica V2 DLG',\n",
       "        'Tata Indica V2 DLS BS III', 'Tata Indica V2 DLX BS III',\n",
       "        'Tata Indica V2 LS', 'Tata Indica V2 Xeta e GLE',\n",
       "        'Tata Indica V2 eLS', 'Tata Indica eV2 LS',\n",
       "        'Tata Indica eV2 eXeta eGLX', 'Tata Indigo CS',\n",
       "        'Tata Indigo CS GLS', 'Tata Indigo CS LS DiCOR',\n",
       "        'Tata Indigo CS eLS BS IV', 'Tata Indigo CS eLX BS IV',\n",
       "        'Tata Indigo LS', 'Tata Indigo LX TDI BS III',\n",
       "        'Tata Indigo Marina LS', 'Tata Indigo eCS',\n",
       "        'Tata Indigo eCS LS CR4 BS IV', 'Tata Indigo eCS LX CR4 BS IV',\n",
       "        'Tata Indigo eCS LX TDI BS III', 'Tata Indigo eCS VX CR4 BS IV',\n",
       "        'Tata Manza', 'Tata Manza Aqua Quadrajet',\n",
       "        'Tata Manza Aura Quadrajet', 'Tata Manza ELAN Quadrajet',\n",
       "        'Tata Nano', 'Tata Nano Cx BSIV', 'Tata Nano GenX XMA',\n",
       "        'Tata Nano LX Special Edition', 'Tata Nano Lx BSIV',\n",
       "        'Tata Sumo Gold EX BS IV', 'Tata Sumo Gold FX BSIII',\n",
       "        'Tata Sumo Gold LX BS IV', 'Tata Sumo Gold Select Variant',\n",
       "        'Tata Sumo Grande MKII GX', 'Tata Sumo Victa EX 10 by 7 Str BSIII',\n",
       "        'Tata Tiago Revotorq XZ', 'Tata Tiago Revotron XM',\n",
       "        'Tata Tiago Revotron XZ', 'Tata Tigor Revotron XZ',\n",
       "        'Tata Venture EX 8 STR', 'Tata Vista Quadrajet VX',\n",
       "        'Tata Zest Quadrajet 1.3', 'Tata Zest XE 75 PS Diesel',\n",
       "        'Tata Zest XM Diesel', 'Toyota Corolla', 'Toyota Corolla Altis',\n",
       "        'Toyota Corolla Altis 1.8 GL', 'Toyota Corolla Altis 1.8 J',\n",
       "        'Toyota Corolla Altis Diesel D4DG',\n",
       "        'Toyota Corolla Altis GL Petrol',\n",
       "        'Toyota Corolla Altis Petrol Ltd',\n",
       "        'Toyota Corolla Altis VL AT Petrol', 'Toyota Corolla H2',\n",
       "        'Toyota Etios', 'Toyota Etios G', 'Toyota Etios GD',\n",
       "        'Toyota Etios Liva', 'Toyota Etios Liva Diesel',\n",
       "        'Toyota Etios Liva G', 'Toyota Etios Liva GD', 'Toyota Fortuner',\n",
       "        'Toyota Fortuner 3.0 4x2 MT', 'Toyota Fortuner 3.0 4x4 MT',\n",
       "        'Toyota Innova 2.0 G 8 STR BS IV', 'Toyota Innova 2.0 G4',\n",
       "        'Toyota Innova 2.5 E 8 STR', 'Toyota Innova 2.5 E MS 7 STR BS IV',\n",
       "        'Toyota Innova 2.5 G BS III 8 STR',\n",
       "        'Toyota Innova 2.5 GX BS IV 7 STR', 'Toyota Innova 2.5 V 7 STR',\n",
       "        'Toyota Innova 2.5 Z Diesel 7 Seater', 'Toyota Qualis',\n",
       "        'Volkswagen Jetta Comfortline 1.9 TDI AT',\n",
       "        'Volkswagen Jetta Highline TDI AT',\n",
       "        'Volkswagen Passat Diesel Comfortline AT', 'Volkswagen Polo',\n",
       "        'Volkswagen Polo Comfortline 1.2L P',\n",
       "        'Volkswagen Polo Highline Exquisite P',\n",
       "        'Volkswagen Polo Highline1.2L P',\n",
       "        'Volkswagen Polo Trendline 1.5L D',\n",
       "        'Volkswagen Vento Comfortline Diesel',\n",
       "        'Volkswagen Vento Comfortline Petrol',\n",
       "        'Volkswagen Vento Highline Plus 1.5 Diesel AT',\n",
       "        'Volkswagen Vento Konekt Diesel Highline', 'Volvo S80 Summum D4'],\n",
       "       dtype=object),\n",
       " array(['Audi', 'BMW', 'Chevrolet', 'Datsun', 'Fiat', 'Force', 'Ford',\n",
       "        'Hindustan', 'Honda', 'Hyundai', 'Jeep', 'Mahindra', 'Maruti',\n",
       "        'Mercedes', 'Mini', 'Mitsubishi', 'Nissan', 'Renault', 'Skoda',\n",
       "        'Tata', 'Toyota', 'Volkswagen', 'Volvo'], dtype=object),\n",
       " array(['Diesel', 'LPG', 'Petrol'], dtype=object)]"
      ]
     },
     "execution_count": 77,
     "metadata": {},
     "output_type": "execute_result"
    }
   ],
   "source": [
    "ohe.categories_"
   ]
  },
  {
   "cell_type": "code",
   "execution_count": 78,
   "id": "7d78a461",
   "metadata": {},
   "outputs": [],
   "source": [
    "column_trans=make_column_transformer((OneHotEncoder(categories=ohe.categories_),['name','company','fuel_type']),\n",
    "                                     remainder='passthrough')"
   ]
  },
  {
   "cell_type": "code",
   "execution_count": 79,
   "id": "ab1b41a0",
   "metadata": {},
   "outputs": [],
   "source": [
    "#Linear regression algorithm\n",
    "\n",
    "lr=LinearRegression()"
   ]
  },
  {
   "cell_type": "code",
   "execution_count": 80,
   "id": "9cfd25c3",
   "metadata": {},
   "outputs": [],
   "source": [
    "pipe=make_pipeline(column_trans,lr)"
   ]
  },
  {
   "cell_type": "code",
   "execution_count": 81,
   "id": "c24ccf5a",
   "metadata": {},
   "outputs": [
    {
     "data": {
      "text/plain": [
       "Pipeline(steps=[('columntransformer',\n",
       "                 ColumnTransformer(remainder='passthrough',\n",
       "                                   transformers=[('onehotencoder',\n",
       "                                                  OneHotEncoder(categories=[array(['Audi A4 1.8 TFSI Multitronic Premium Plus',\n",
       "       'Audi A4 2.0 TDI 177bhp Premium', 'Audi A6 2.0 TDI Premium',\n",
       "       'Audi A8', 'Audi Q3 2.0 TDI quattro Premium', 'Audi Q7',\n",
       "       'BMW 3 Series 320d Sedan', 'BMW 3 Series 320i',\n",
       "       'BMW 5 Series 520d Sedan', 'BMW 5 Series...\n",
       "                                                                            array(['Audi', 'BMW', 'Chevrolet', 'Datsun', 'Fiat', 'Force', 'Ford',\n",
       "       'Hindustan', 'Honda', 'Hyundai', 'Jeep', 'Mahindra', 'Maruti',\n",
       "       'Mercedes', 'Mini', 'Mitsubishi', 'Nissan', 'Renault', 'Skoda',\n",
       "       'Tata', 'Toyota', 'Volkswagen', 'Volvo'], dtype=object),\n",
       "                                                                            array(['Diesel', 'LPG', 'Petrol'], dtype=object)]),\n",
       "                                                  ['name', 'company',\n",
       "                                                   'fuel_type'])])),\n",
       "                ('linearregression', LinearRegression())])"
      ]
     },
     "execution_count": 81,
     "metadata": {},
     "output_type": "execute_result"
    }
   ],
   "source": [
    "pipe.fit(x_train,y_train)"
   ]
  },
  {
   "cell_type": "code",
   "execution_count": 82,
   "id": "4450e279",
   "metadata": {},
   "outputs": [
    {
     "data": {
      "text/plain": [
       "Pipeline(steps=[('columntransformer',\n",
       "                 ColumnTransformer(remainder='passthrough',\n",
       "                                   transformers=[('onehotencoder',\n",
       "                                                  OneHotEncoder(categories=[array(['Audi A4 1.8 TFSI Multitronic Premium Plus',\n",
       "       'Audi A4 2.0 TDI 177bhp Premium', 'Audi A6 2.0 TDI Premium',\n",
       "       'Audi A8', 'Audi Q3 2.0 TDI quattro Premium', 'Audi Q7',\n",
       "       'BMW 3 Series 320d Sedan', 'BMW 3 Series 320i',\n",
       "       'BMW 5 Series 520d Sedan', 'BMW 5 Series...\n",
       "                                                                            array(['Audi', 'BMW', 'Chevrolet', 'Datsun', 'Fiat', 'Force', 'Ford',\n",
       "       'Hindustan', 'Honda', 'Hyundai', 'Jeep', 'Mahindra', 'Maruti',\n",
       "       'Mercedes', 'Mini', 'Mitsubishi', 'Nissan', 'Renault', 'Skoda',\n",
       "       'Tata', 'Toyota', 'Volkswagen', 'Volvo'], dtype=object),\n",
       "                                                                            array(['Diesel', 'LPG', 'Petrol'], dtype=object)]),\n",
       "                                                  ['name', 'company',\n",
       "                                                   'fuel_type'])])),\n",
       "                ('linearregression', LinearRegression())])"
      ]
     },
     "execution_count": 82,
     "metadata": {},
     "output_type": "execute_result"
    }
   ],
   "source": [
    "pipe.fit(x_train,y_train)"
   ]
  },
  {
   "cell_type": "code",
   "execution_count": 83,
   "id": "0f13b6ac",
   "metadata": {},
   "outputs": [
    {
     "data": {
      "text/plain": [
       "array([ 279743.93033916,  356840.7422789 ,  243313.07796067,\n",
       "        115054.55135857,  568201.83046651,  460936.05587861,\n",
       "        472899.71751466,  825846.22262242,  242814.07827378,\n",
       "          5057.24974645,  535041.29316865,  409757.20305719,\n",
       "        280763.56676725,  186925.76000128,  941715.48669644,\n",
       "        288906.41529527,  202723.46142104,  319431.78156509,\n",
       "        276154.64714364,  963319.90149075,  500712.92668323,\n",
       "        201763.47252811,  194643.72987023,  426951.5924629 ,\n",
       "        211220.91271449,  321663.96822101,  239762.57158365,\n",
       "        457944.3824828 ,  151672.3190234 ,  255478.07604425,\n",
       "         69274.12248833,  348300.06432664,  553693.44699444,\n",
       "        205786.53623008,  307422.30426863,  313160.89798285,\n",
       "        215394.26313921,  475583.05282842,  143416.37167514,\n",
       "        373147.08457686,  413653.54477407,  138808.68429181,\n",
       "        269085.21085139,  360397.76736772,  423953.96933693,\n",
       "        155546.48709542,  120747.79357815,  476650.63739555,\n",
       "        517134.22856971,  361466.94065456,  264723.18599279,\n",
       "        208168.97993088,  568201.83046651,  427663.31550766,\n",
       "        446084.79128802,  425255.4577373 ,  155317.59205992,\n",
       "        267693.03574541,  460565.69658414,  225469.56742587,\n",
       "        250329.47689431,  250096.37400725,  779645.41134685,\n",
       "        187312.07954832,  770840.50022535,  350323.28447606,\n",
       "        355000.84362651,   78740.03898354,  260301.71371109,\n",
       "        329478.4665135 ,  289284.28810103,  830988.73671158,\n",
       "        485077.96788125,  733427.10929283,  514434.68089767,\n",
       "        223516.17667993,  271507.17497454,  116219.544719  ,\n",
       "        213829.37540171,  355773.15629654,  490947.77182534,\n",
       "        533021.12060003,  708388.04244079,  913496.5611364 ,\n",
       "        120435.64218316,  880020.94179184,   43248.95269983,\n",
       "        419006.90594814,   79808.52651163,  442518.80792426,\n",
       "        483906.83527785,  519414.26286093,  230065.97413389,\n",
       "         81357.97591071,  278193.99593655,  255478.07604425,\n",
       "        200203.59644287,  391184.21684807,  225400.56494538,\n",
       "        335695.1203601 ,  401168.67854246,  912406.5634818 ,\n",
       "        435625.56967895,   72844.31069662,  330585.32802018,\n",
       "        302431.66370878,  540565.10007945,  185234.49648703,\n",
       "        460565.69658414,  830988.73671158,   71587.42134357,\n",
       "        283254.59742389,  302188.785152  ,  159957.96030156,\n",
       "        244046.72812685,  134485.10399975,  514434.68089767,\n",
       "        515661.64908069,  339050.84125781,   99906.06387584,\n",
       "        327236.4231954 ,  271453.8444997 ,  337771.25628856,\n",
       "        392328.6381471 ,  248314.67787629,  449784.15689863,\n",
       "        529573.94351446,  227074.79190369,  246358.32860794,\n",
       "        353202.68250489,  275367.28114047,  234994.84602807,\n",
       "        397022.21621535,  449548.48716257,  357120.68263058,\n",
       "        314168.23485536,  497567.04684861,  -33836.81745336,\n",
       "        385374.78445886,  420496.8631472 ,  497567.04684861,\n",
       "        530174.22842102,  254390.93396781,  397006.14096735,\n",
       "        219177.822558  ,   61455.55587344,  271904.08983571,\n",
       "        134840.96552213,  109934.94256244,  263959.5350415 ,\n",
       "        357552.46390843,  351798.08992512,  212761.79083458,\n",
       "        963141.97072956,  283146.38672231,  147748.7335711 ,\n",
       "        267070.01538621,  383967.2195963 ,  434333.99290961,\n",
       "        360879.1040833 ,  502904.96968426,  202531.26833332,\n",
       "        488505.5935403 ,  396463.83091669,  403008.57577962,\n",
       "        515661.64908069,  505487.94479802,  533973.70860152,\n",
       "        361466.94065456,  128024.75878507,  244046.72812685,\n",
       "        170777.6053394 ,  225235.53548235,  397006.14096735,\n",
       "        528991.64728826,  218821.96103563,  234873.05319961,\n",
       "        390956.49508695,  119323.27990408,  587489.20643672,\n",
       "        255808.74972987,  473591.61589009,  268959.54690355,\n",
       "        323776.49595952,  105765.03886864,  172611.30788686,\n",
       "        179334.31364409,  382457.05882384,  158606.15918342,\n",
       "        414942.1986047 ,  177417.25171459,  203475.67552947,\n",
       "        252758.73993187,  882732.02819564,  305405.77057436,\n",
       "        117609.53617783,  263363.21042703, 1002861.91519149,\n",
       "        397006.14096735,  602269.90915078,  379677.1462643 ,\n",
       "        499878.71683784,  232816.03939722,  101208.0658319 ,\n",
       "        289644.28164604,  307354.5302253 ,  494474.24631091,\n",
       "        538006.64419017,  523831.82800892,  262669.83793945,\n",
       "        525713.21246821,  294748.8413527 ,  328071.4735865 ,\n",
       "        245256.14059939,  372838.68618999,  312605.72122147,\n",
       "        439474.48029394,  472102.54947782,  312025.69758111,\n",
       "        430023.17480338,  229315.04169152,  435789.58840628,\n",
       "        351719.61200601,  326623.38813853,  247890.03256851,\n",
       "        398599.00005095,  360043.10972287,  396463.83091669,\n",
       "        314590.1583693 ,  889182.73912288,  371429.55931897,\n",
       "         31309.83258903,  178246.01439904,  302021.27959734,\n",
       "        898510.30261698,  444791.60957217,  802739.6948374 ,\n",
       "        830988.73671158,  381546.99877645,  265709.58604028,\n",
       "        351565.71950196,   79808.52651163,  390956.49508695])"
      ]
     },
     "execution_count": 83,
     "metadata": {},
     "output_type": "execute_result"
    }
   ],
   "source": [
    "y_pred=pipe.predict(x_test)\n",
    "y_pred"
   ]
  },
  {
   "cell_type": "code",
   "execution_count": 84,
   "id": "89f21025",
   "metadata": {},
   "outputs": [
    {
     "data": {
      "text/plain": [
       "410    169999.0\n",
       "371    340000.0\n",
       "666    140000.0\n",
       "548    115000.0\n",
       "472    900000.0\n",
       "         ...   \n",
       "519    375000.0\n",
       "258    245000.0\n",
       "250    699000.0\n",
       "839     39999.0\n",
       "186    340000.0\n",
       "Name: Price, Length: 243, dtype: float64"
      ]
     },
     "execution_count": 84,
     "metadata": {},
     "output_type": "execute_result"
    }
   ],
   "source": [
    "y_test"
   ]
  },
  {
   "cell_type": "code",
   "execution_count": 85,
   "id": "a6c72dd1",
   "metadata": {},
   "outputs": [
    {
     "data": {
      "text/plain": [
       "0.7033814405620873"
      ]
     },
     "execution_count": 85,
     "metadata": {},
     "output_type": "execute_result"
    }
   ],
   "source": [
    "r2_score(y_test,y_pred)"
   ]
  },
  {
   "cell_type": "markdown",
   "id": "124dd2e2",
   "metadata": {},
   "source": [
    "The coefficient of determination,(R-squared), is a statistical measure gives 0.62"
   ]
  },
  {
   "cell_type": "markdown",
   "id": "7558d79c",
   "metadata": {},
   "source": [
    "We can see that the R-squared score of the final dataframe was much closer to the R-squared cross validation.which is equal to 0.62.\n",
    "\n"
   ]
  },
  {
   "cell_type": "code",
   "execution_count": null,
   "id": "00db9ff1",
   "metadata": {},
   "outputs": [],
   "source": []
  },
  {
   "cell_type": "code",
   "execution_count": 86,
   "id": "a468a562",
   "metadata": {},
   "outputs": [],
   "source": []
  },
  {
   "cell_type": "code",
   "execution_count": 90,
   "id": "646c2064",
   "metadata": {},
   "outputs": [],
   "source": [
    "file_path = r'D:\\InternPe_Internship\\quikr_car_cleaned_df.csv'\n",
    "\n",
    "df.to_csv(file_path, index=False)"
   ]
  },
  {
   "cell_type": "code",
   "execution_count": null,
   "id": "7b391886",
   "metadata": {},
   "outputs": [],
   "source": []
  },
  {
   "cell_type": "code",
   "execution_count": null,
   "id": "af1f8ecf",
   "metadata": {},
   "outputs": [],
   "source": []
  },
  {
   "cell_type": "code",
   "execution_count": null,
   "id": "b97b6d73",
   "metadata": {},
   "outputs": [],
   "source": []
  },
  {
   "cell_type": "code",
   "execution_count": null,
   "id": "5721f9d1",
   "metadata": {},
   "outputs": [],
   "source": []
  },
  {
   "cell_type": "code",
   "execution_count": null,
   "id": "0a549310",
   "metadata": {},
   "outputs": [],
   "source": []
  },
  {
   "cell_type": "code",
   "execution_count": null,
   "id": "ec17f7b9",
   "metadata": {},
   "outputs": [],
   "source": []
  },
  {
   "cell_type": "code",
   "execution_count": null,
   "id": "7478ddec",
   "metadata": {},
   "outputs": [],
   "source": []
  }
 ],
 "metadata": {
  "kernelspec": {
   "display_name": "Python 3 (ipykernel)",
   "language": "python",
   "name": "python3"
  },
  "language_info": {
   "codemirror_mode": {
    "name": "ipython",
    "version": 3
   },
   "file_extension": ".py",
   "mimetype": "text/x-python",
   "name": "python",
   "nbconvert_exporter": "python",
   "pygments_lexer": "ipython3",
   "version": "3.9.7"
  }
 },
 "nbformat": 4,
 "nbformat_minor": 5
}
